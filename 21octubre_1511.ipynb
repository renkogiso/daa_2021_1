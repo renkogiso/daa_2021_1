{
  "nbformat": 4,
  "nbformat_minor": 0,
  "metadata": {
    "colab": {
      "name": "21octubre_1511.ipynb",
      "provenance": [],
      "authorship_tag": "ABX9TyNGCdHW9kQDCTySQs4OHIAL",
      "include_colab_link": true
    },
    "kernelspec": {
      "name": "python3",
      "display_name": "Python 3"
    }
  },
  "cells": [
    {
      "cell_type": "markdown",
      "metadata": {
        "id": "view-in-github",
        "colab_type": "text"
      },
      "source": [
        "<a href=\"https://colab.research.google.com/github/renkogiso/daa_2021_1/blob/master/21octubre_1511.ipynb\" target=\"_parent\"><img src=\"https://colab.research.google.com/assets/colab-badge.svg\" alt=\"Open In Colab\"/></a>"
      ]
    },
    {
      "cell_type": "code",
      "metadata": {
        "id": "TMd2ZqzqfQ0V",
        "outputId": "c34e626f-9eac-48ee-a339-3010bcbb880e",
        "colab": {
          "base_uri": "https://localhost:8080/",
          "height": 366
        }
      },
      "source": [
        "from time import time\n",
        "\n",
        "def ejemplo1( n ):\n",
        "    start_time=time()\n",
        "    c = n + 1\n",
        "    d = c * n\n",
        "    e = n * n\n",
        "    total = c + e - d\n",
        "    print(f\"total={ total }\")\n",
        "    print(f\"tiempo: {time()-start_time}\")\n",
        "for entrada in range(100,1001,100):\n",
        "  ejemplo1( entrada )"
      ],
      "execution_count": null,
      "outputs": [
        {
          "output_type": "stream",
          "text": [
            "total=1\n",
            "tiempo: 4.649162292480469e-05\n",
            "total=1\n",
            "tiempo: 1.0013580322265625e-05\n",
            "total=1\n",
            "tiempo: 9.298324584960938e-06\n",
            "total=1\n",
            "tiempo: 8.821487426757812e-06\n",
            "total=1\n",
            "tiempo: 8.344650268554688e-06\n",
            "total=1\n",
            "tiempo: 8.58306884765625e-06\n",
            "total=1\n",
            "tiempo: 9.298324584960938e-06\n",
            "total=1\n",
            "tiempo: 9.5367431640625e-06\n",
            "total=1\n",
            "tiempo: 8.58306884765625e-06\n",
            "total=1\n",
            "tiempo: 8.344650268554688e-06\n"
          ],
          "name": "stdout"
        }
      ]
    },
    {
      "cell_type": "code",
      "metadata": {
        "id": "TjRRpdRSac4C",
        "outputId": "4bee3c2a-10c3-47c7-9421-2f5dcb6a011f",
        "colab": {
          "base_uri": "https://localhost:8080/",
          "height": 191
        }
      },
      "source": [
        "from time import time\n",
        "\n",
        "def ejemplo2( n ):\n",
        "    start_time=time()\n",
        "    contador = 0\n",
        "    for i in range( n ) :\n",
        "        for j in range( n ) :\n",
        "            contador += 1\n",
        "    print(f\"tempo: {time()-start_time}\")\n",
        "    return contador\n",
        "\n",
        "for entrada in range(100,1001,100):\n",
        "  ejemplo2( entrada )"
      ],
      "execution_count": null,
      "outputs": [
        {
          "output_type": "stream",
          "text": [
            "tempo: 0.0004668235778808594\n",
            "tempo: 0.0018050670623779297\n",
            "tempo: 0.004122018814086914\n",
            "tempo: 0.007921934127807617\n",
            "tempo: 0.01631903648376465\n",
            "tempo: 0.020000934600830078\n",
            "tempo: 0.027245759963989258\n",
            "tempo: 0.03930544853210449\n",
            "tempo: 0.04428911209106445\n",
            "tempo: 0.055377960205078125\n"
          ],
          "name": "stdout"
        }
      ]
    },
    {
      "cell_type": "code",
      "metadata": {
        "id": "0EmGQAYcfOT0",
        "outputId": "912c768e-f4c2-4a25-a485-4c047f6780a4",
        "colab": {
          "base_uri": "https://localhost:8080/",
          "height": 191
        }
      },
      "source": [
        "from time import time\n",
        "\n",
        "def ejemplo3( n ): # n=4\n",
        "    start_time=time()\n",
        "    x = n * 2 # x = 8\n",
        "    y = 0   # y = 0\n",
        "    for m in range( 100 ): #3\n",
        "        y = x - n   # y = 4\n",
        "    print(f\"tiempo: {time()-start_time}\")\n",
        "    return y\n",
        "\n",
        "for entrada in range(100,1001,100):\n",
        "  ejemplo3(entrada)\n"
      ],
      "execution_count": null,
      "outputs": [
        {
          "output_type": "stream",
          "text": [
            "tiempo: 5.245208740234375e-06\n",
            "tiempo: 6.4373016357421875e-06\n",
            "tiempo: 8.58306884765625e-06\n",
            "tiempo: 8.821487426757812e-06\n",
            "tiempo: 9.059906005859375e-06\n",
            "tiempo: 8.821487426757812e-06\n",
            "tiempo: 8.821487426757812e-06\n",
            "tiempo: 8.58306884765625e-06\n",
            "tiempo: 8.58306884765625e-06\n",
            "tiempo: 8.58306884765625e-06\n"
          ],
          "name": "stdout"
        }
      ]
    },
    {
      "cell_type": "code",
      "metadata": {
        "id": "OVQQVBgvgah3",
        "outputId": "ce2e645f-399d-4a49-c3cb-c60d5287b780",
        "colab": {
          "base_uri": "https://localhost:8080/",
          "height": 191
        }
      },
      "source": [
        "from time import time\n",
        "\n",
        "def ejemplo4( n ):\n",
        "    start_time=time()\n",
        "    x = 3 * 3.1416 + n\n",
        "    y = x + 3 * 3 - n\n",
        "    z = x + y\n",
        "    print(f\"tiempo: {time()-start_time}\")\n",
        "    return z\n",
        "\n",
        "for entrada in range(100,1001,100):\n",
        "  ejemplo4(entrada)\n"
      ],
      "execution_count": null,
      "outputs": [
        {
          "output_type": "stream",
          "text": [
            "tiempo: 1.1920928955078125e-06\n",
            "tiempo: 1.1920928955078125e-06\n",
            "tiempo: 7.152557373046875e-07\n",
            "tiempo: 7.152557373046875e-07\n",
            "tiempo: 4.76837158203125e-07\n",
            "tiempo: 4.76837158203125e-07\n",
            "tiempo: 2.384185791015625e-07\n",
            "tiempo: 2.384185791015625e-07\n",
            "tiempo: 1.6689300537109375e-06\n",
            "tiempo: 1.9073486328125e-06\n"
          ],
          "name": "stdout"
        }
      ]
    },
    {
      "cell_type": "code",
      "metadata": {
        "id": "rC-wO75TgbIe",
        "outputId": "0e229e01-a624-4759-f76c-1878fe2a78d2",
        "colab": {
          "base_uri": "https://localhost:8080/",
          "height": 191
        }
      },
      "source": [
        "from time import time\n",
        "\n",
        "def ejemplo5( x ):\n",
        "    start_time=time()\n",
        "    n = 10\n",
        "    for j in range( 0 , x , 1 ):\n",
        "        n = j + n\n",
        "    print(f\"tiempo: {time()-start_time}\")\n",
        "    return n\n",
        "\n",
        "for entrada in range(100,1001,100):\n",
        "  ejemplo5(entrada)"
      ],
      "execution_count": null,
      "outputs": [
        {
          "output_type": "stream",
          "text": [
            "tiempo: 6.9141387939453125e-06\n",
            "tiempo: 1.6689300537109375e-05\n",
            "tiempo: 2.574920654296875e-05\n",
            "tiempo: 3.552436828613281e-05\n",
            "tiempo: 5.8650970458984375e-05\n",
            "tiempo: 5.650520324707031e-05\n",
            "tiempo: 6.67572021484375e-05\n",
            "tiempo: 7.677078247070312e-05\n",
            "tiempo: 7.677078247070312e-05\n",
            "tiempo: 8.20159912109375e-05\n"
          ],
          "name": "stdout"
        }
      ]
    },
    {
      "cell_type": "code",
      "metadata": {
        "id": "kotqfRxPijRk",
        "outputId": "84756e06-6f4f-4c48-ef7f-5887e0626ce3",
        "colab": {
          "base_uri": "https://localhost:8080/",
          "height": 34
        }
      },
      "source": [
        "def ejemplo6( n ):\n",
        "    data=[[[1 for x in range(n)] for x in range(n)]\n",
        "          for x in range(n)]\n",
        "    suma = 0\n",
        "    for d in range(n):\n",
        "        for r in range(n):\n",
        "            for c in range(n):\n",
        "                suma += data[d][r][c]\n",
        "    return suma\n",
        "print(ejemplo6( 300 ))"
      ],
      "execution_count": null,
      "outputs": [
        {
          "output_type": "stream",
          "text": [
            "27000000\n"
          ],
          "name": "stdout"
        }
      ]
    },
    {
      "cell_type": "code",
      "metadata": {
        "id": "DEhTH-OYnpam",
        "outputId": "05a2ea18-321e-4b27-a3ab-35e36762c7bb",
        "colab": {
          "base_uri": "https://localhost:8080/",
          "height": 121
        }
      },
      "source": [
        "from time import time\n",
        "\n",
        "def ejemplo6( n ):\n",
        "    start_time = time()\n",
        "    data=[[[1 for x in range(n)] for x in range(n)] \n",
        "          for x in range(n)]\n",
        "    suma = 0\n",
        "    for d in range(n):\n",
        "        for r in range(n):\n",
        "            for c in range(n):\n",
        "                suma += data[d][r][c]\n",
        "    elapsed_time = time() - start_time\n",
        "    print(\"Tiempo transcurrido: %0.10f segundos.\" % elapsed_time)\n",
        "    return suma\n",
        "\n",
        "for entrada in range(100,601,100):\n",
        "  ejemplo6( entrada )"
      ],
      "execution_count": null,
      "outputs": [
        {
          "output_type": "stream",
          "text": [
            "Tiempo transcurrido: 0.1467251778 segundos.\n",
            "Tiempo transcurrido: 1.0205194950 segundos.\n",
            "Tiempo transcurrido: 3.6440575123 segundos.\n",
            "Tiempo transcurrido: 9.3464052677 segundos.\n",
            "Tiempo transcurrido: 19.0726337433 segundos.\n",
            "Tiempo transcurrido: 32.4547498226 segundos.\n"
          ],
          "name": "stdout"
        }
      ]
    }
  ]
}