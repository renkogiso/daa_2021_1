{
  "nbformat": 4,
  "nbformat_minor": 0,
  "metadata": {
    "colab": {
      "name": "19octubre.ipynb",
      "provenance": [],
      "authorship_tag": "ABX9TyNCnRnT/nv51vlqGoNemxNY",
      "include_colab_link": true
    },
    "kernelspec": {
      "name": "python3",
      "display_name": "Python 3"
    }
  },
  "cells": [
    {
      "cell_type": "markdown",
      "metadata": {
        "id": "view-in-github",
        "colab_type": "text"
      },
      "source": [
        "<a href=\"https://colab.research.google.com/github/renkogiso/daa_2021_1/blob/master/19octubre.ipynb\" target=\"_parent\"><img src=\"https://colab.research.google.com/assets/colab-badge.svg\" alt=\"Open In Colab\"/></a>"
      ]
    },
    {
      "cell_type": "code",
      "metadata": {
        "id": "8UXrDXw9Mj13",
        "outputId": "f1c9f244-8050-48d1-87cb-ed527ef1ee23",
        "colab": {
          "base_uri": "https://localhost:8080/",
          "height": 261
        }
      },
      "source": [
        " a2d = [[3,2,1],[6,4,8],[7,4,2]]\n",
        " \n",
        "\n",
        "total = 0\n",
        "print(\"nivel 1\")\n",
        "for ren in range( len(a2d) ):\n",
        "  suma_renglon = 0\n",
        "  print(\"nivel 2\")\n",
        "  for col in range( len(a2d) ):\n",
        "    suma_renglon += a2d[ren][col]\n",
        "    total += a2d[ren][col]\n",
        "    print(\"nivel 3\")\n",
        "\n",
        "print(total)"
      ],
      "execution_count": null,
      "outputs": [
        {
          "output_type": "stream",
          "text": [
            "nivel 1\n",
            "nivel 2\n",
            "nivel 3\n",
            "nivel 3\n",
            "nivel 3\n",
            "nivel 2\n",
            "nivel 3\n",
            "nivel 3\n",
            "nivel 3\n",
            "nivel 2\n",
            "nivel 3\n",
            "nivel 3\n",
            "nivel 3\n",
            "37\n"
          ],
          "name": "stdout"
        }
      ]
    },
    {
      "cell_type": "code",
      "metadata": {
        "id": "oo9WAuVWS3V8",
        "outputId": "99ab0de8-2b57-4eef-d5e1-8f4ab1cf2009",
        "colab": {
          "base_uri": "https://localhost:8080/",
          "height": 121
        }
      },
      "source": [
        "def ejemplo4( n ):\n",
        "  count = 0\n",
        "  i = n\n",
        "  print(\"nivel 1\")\n",
        "  while i>=1:\n",
        "    count += 1\n",
        "    i = i // 2\n",
        "    print(\"nivel2\")\n",
        "  basura = 2 + 3\n",
        "  return count\n",
        "\n",
        "print(ejemplo4(10))\n",
        "# 3+log(i) en base 2 "
      ],
      "execution_count": 2,
      "outputs": [
        {
          "output_type": "stream",
          "text": [
            "nivel 1\n",
            "nivel2\n",
            "nivel2\n",
            "nivel2\n",
            "nivel2\n",
            "4\n"
          ],
          "name": "stdout"
        }
      ]
    }
  ]
}