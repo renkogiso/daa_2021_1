{
  "nbformat": 4,
  "nbformat_minor": 0,
  "metadata": {
    "colab": {
      "name": "13EneroDaa.ipynb",
      "provenance": [],
      "authorship_tag": "ABX9TyOS9WeC6NSBKUam/eWnVRzd",
      "include_colab_link": true
    },
    "kernelspec": {
      "name": "python3",
      "display_name": "Python 3"
    }
  },
  "cells": [
    {
      "cell_type": "markdown",
      "metadata": {
        "id": "view-in-github",
        "colab_type": "text"
      },
      "source": [
        "<a href=\"https://colab.research.google.com/github/renkogiso/daa_2021_1/blob/master/13EneroDaa.ipynb\" target=\"_parent\"><img src=\"https://colab.research.google.com/assets/colab-badge.svg\" alt=\"Open In Colab\"/></a>"
      ]
    },
    {
      "cell_type": "code",
      "metadata": {
        "id": "j63lkpQtMGH-"
      },
      "source": [
        "class NodoArbol:\n",
        "  def __init__(self, value, left=None, right=None):\n",
        "    self.data=value\n",
        "    self.left=left\n",
        "    self.right=right\n",
        "\n"
      ],
      "execution_count": 3,
      "outputs": []
    },
    {
      "cell_type": "markdown",
      "metadata": {
        "id": "5puCAd7ZMTd7"
      },
      "source": [
        "# Arbol binario de busqueda\n",
        "Los nodos a la izq son menores a la raiz y los nodos a la derecha son mayores la raiz.\n",
        "Pueden ser recorridos en: pre-orden y pos-orden."
      ]
    },
    {
      "cell_type": "code",
      "metadata": {
        "id": "fLpEC0JVVYBQ"
      },
      "source": [
        "class BinarySearchTree:\n",
        "  def __init__(self):\n",
        "    self._root=None\n",
        "\n",
        "  def insert(self, value):\n",
        "    if self._root==None:\n",
        "      self._root=NodoArbol(value)\n",
        "      print(\"hola\")\n",
        "    else:\n",
        "      self.__insert_nodo__(self._root, value)\n",
        "  \n",
        "\n",
        "  def __insert_nodo__(self, nodo, value):\n",
        "    if nodo.data==value:\n",
        "      pass\n",
        "    elif value<nodo.data: # true va a la IZQ \n",
        "      if nodo.left==None:# si hay espacio en la izq, ahi va\n",
        "        nodo.left=NodoArbol(value)# insertamos en sub\n",
        "      else:\n",
        "        self.__insert_nodo__(nodo.left,value) # buscar en sub\n",
        "    else: # ir a la derecha \n",
        "      if nodo.right==None:\n",
        "        nodo.left=NodoArbol(value)\n",
        "      else:\n",
        "        self.__insert_nodo__(nodo.right,value) #buscar en sub\n",
        "\n",
        "  def buscar(self, value):\n",
        "    if self._root==None:\n",
        "      return None\n",
        "    else:\n",
        "      # haremos busqueda recursiva\n",
        "      return self.__busca_nodo(self._root,value)\n",
        "\n",
        "  def __busca_nodo(self, nodo, value):\n",
        "    if nodo==None:\n",
        "      return None\n",
        "    elif nodo.data==value:\n",
        "      return nodo\n",
        "    elif value<nodo.data:\n",
        "      return self.__busca_nodo(nodo.left,value)\n",
        "    else:\n",
        "      return self.__busca_nodo(nodo.right,value)\n",
        "\n",
        "  def transversal(self, format=\"inorden\"):\n",
        "    if format==\"inorden\":\n",
        "      self.__recorrido_in(self._root)\n",
        "    elif format==\"preorden\":\n",
        "      self.__recorrido_pre(self._root)\n",
        "    elif format==\"posorden\":\n",
        "      self.__recorrido_pos(self._root)\n",
        "    else:\n",
        "      print(\"Formato de recorrido no valido\") \n",
        "\n",
        "  def __recorrido_pre(self, nodo):\n",
        "    if nodo!=None:\n",
        "      print(nodo.data,end=\",\")\n",
        "      self.__recorrido_pre(nodo.left)\n",
        "      self.__recorrido_pre(nodo.right)\n",
        "  \n",
        "  def __recorrido_in(self, nodo):\n",
        "    if nodo!=None:\n",
        "      self.__recorrido_in(nodo.left)\n",
        "      print(nodo.data,end=\",\")\n",
        "      self.__recorrido_in(nodo.right)\n",
        "  \n",
        "  def __recorrido_pos(self, nodo):\n",
        "    if nodo!=None:\n",
        "      self.__recorrido_pos(nodo.left)\n",
        "      self.__recorrido_pos(nodo.right)\n",
        "      print(nodo.data,end=\",\")\n",
        "\n"
      ],
      "execution_count": 41,
      "outputs": []
    },
    {
      "cell_type": "code",
      "metadata": {
        "id": "FiLIg_i1bosg",
        "colab": {
          "base_uri": "https://localhost:8080/"
        },
        "outputId": "693125a7-c9c6-490b-d06f-958ee565a6b1"
      },
      "source": [
        "bst=BinarySearchTree()\n",
        "bst.insert(50)\n",
        "bst.insert(30)\n",
        "bst.insert(20)\n",
        "resultado=bst.buscar(30) #true o false ?\n",
        "print(\"dato : {}\".format(resultado.data))\n",
        "print(bst.buscar(40))\n",
        "print(\"recorrido preorden:\",end=\",\")\n",
        "bst.transversal(format=\"preorden\")\n",
        "print()\n",
        "print(\"recorrido inorden:\",end=\",\")\n",
        "bst.transversal()\n",
        "print()\n",
        "print(\"recorrido posorden:\",end=\",\")\n",
        "bst.transversal(format=\"posorden\")\n",
        "\n"
      ],
      "execution_count": 51,
      "outputs": [
        {
          "output_type": "stream",
          "text": [
            "hola\n",
            "dato : 30\n",
            "None\n",
            "recorrido preorden:,50,30,20,\n",
            "recorrido inorden:,20,30,50,\n",
            "recorrido posorden:,20,30,50,"
          ],
          "name": "stdout"
        }
      ]
    }
  ]
}