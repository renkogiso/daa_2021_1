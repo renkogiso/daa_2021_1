{
  "nbformat": 4,
  "nbformat_minor": 0,
  "metadata": {
    "colab": {
      "name": "13EneroDaa.ipynb",
      "provenance": [],
      "authorship_tag": "ABX9TyN39mFO5ub0SvrsuzAadiN6",
      "include_colab_link": true
    },
    "kernelspec": {
      "name": "python3",
      "display_name": "Python 3"
    }
  },
  "cells": [
    {
      "cell_type": "markdown",
      "metadata": {
        "id": "view-in-github",
        "colab_type": "text"
      },
      "source": [
        "<a href=\"https://colab.research.google.com/github/renkogiso/daa_2021_1/blob/master/13EneroDaa.ipynb\" target=\"_parent\"><img src=\"https://colab.research.google.com/assets/colab-badge.svg\" alt=\"Open In Colab\"/></a>"
      ]
    },
    {
      "cell_type": "code",
      "metadata": {
        "id": "j63lkpQtMGH-"
      },
      "source": [
        "class NodoArbol:\n",
        "  def __init__(self, value, left=None, right=None):\n",
        "    self.data=value\n",
        "    self.left=left\n",
        "    self.right=right\n",
        "\n"
      ],
      "execution_count": 12,
      "outputs": []
    },
    {
      "cell_type": "markdown",
      "metadata": {
        "id": "5puCAd7ZMTd7"
      },
      "source": [
        "# Arbol binario de busqueda\n",
        "Los nodos a la izq son menores a la raiz y los nodos a la derecha son mayores la raiz.\n",
        "Pueden ser recorridos en: pre-orden y pos-orden."
      ]
    },
    {
      "cell_type": "code",
      "metadata": {
        "id": "fLpEC0JVVYBQ"
      },
      "source": [
        "class BinarySearchTree:\n",
        "  def __init__(self):\n",
        "    self._root=None\n",
        "\n",
        "  def insert(self, value):\n",
        "    if self._root==None:\n",
        "      self.root=NodoArbol(value)\n",
        "    else:\n",
        "      self__insert_nodo__(self._root, value)\n",
        "  \n",
        "\n",
        "  def __insert_nodo(self, nodo, value):\n",
        "    if nodo.data==value:\n",
        "      pass\n",
        "    elif value<nodo.data:\n",
        "      if nodo.left==None:\n",
        "        nodo.left=NodoArbol(value)\n",
        "      else:\n",
        "        self.__insert_nodo(nodo.left,value)\n",
        "    else:\n",
        "      if nodo.right==None:\n",
        "        nodo.left=NodoArbol(value)\n",
        "      else:\n",
        "        self.__insert_nodo(nodo.right,value)\n",
        "    "
      ],
      "execution_count": 13,
      "outputs": []
    },
    {
      "cell_type": "code",
      "metadata": {
        "id": "FiLIg_i1bosg"
      },
      "source": [
        "bst=BinarySearchTree()\n",
        "bst.insert(50)\n",
        "bst.insert(30)\n",
        "bst.insert(20)\n",
        "bst.search(30) #true o false ?"
      ],
      "execution_count": 15,
      "outputs": []
    }
  ]
}