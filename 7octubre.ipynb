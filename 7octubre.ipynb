{
  "nbformat": 4,
  "nbformat_minor": 0,
  "metadata": {
    "colab": {
      "name": "7octubre.ipynb",
      "provenance": [],
      "authorship_tag": "ABX9TyNJjlh0BG6QW9DZH8U1Ax59",
      "include_colab_link": true
    },
    "kernelspec": {
      "name": "python3",
      "display_name": "Python 3"
    }
  },
  "cells": [
    {
      "cell_type": "markdown",
      "metadata": {
        "id": "view-in-github",
        "colab_type": "text"
      },
      "source": [
        "<a href=\"https://colab.research.google.com/github/renkogiso/daa_2021_1/blob/master/7octubre.ipynb\" target=\"_parent\"><img src=\"https://colab.research.google.com/assets/colab-badge.svg\" alt=\"Open In Colab\"/></a>"
      ]
    },
    {
      "cell_type": "markdown",
      "metadata": {
        "id": "wQQmpOmGSQbC"
      },
      "source": [
        "#Búsqueda lineal\n",
        "\n",
        "Dada un conjunto de datos ordenados , la busqueda lineal consiste en recorrer el conjunto de datos desde el inicio al final, movinedose de uno en uno hasta encotrar el elemento o llegar al final  del conjunto.\n",
        "\n",
        "datos = [ 4,18,47,2,34,14,78,12,48,21,31,19,1,3,5 ]\n",
        "\n",
        "# Búsqueda binaria\n",
        "\n",
        "Funciona sobre un conjunto de datos lineal ordenado \n",
        "Consiste en dividir el conjunto en mitades y bucar en esa mitad. Si el elemento buscado no esta en la mitad, preguntas si el elemento esta a la derecha o a la izquierda.\n",
        "Haces la lista igual a la mitad correspondiente y repites el proceso\n",
        "\n",
        "L = [1, 2, 3, 4, 5, 12, 14, 18, 19, 21, 31, 34, 47, 48, 78]\n",
        "\n",
        "DER = longitud( L ) - 1 \n",
        "\n",
        "IZQ = 0\n",
        "\n",
        "MID = apuntara a la mitad del segmento de busqueda\n",
        "\n",
        "buscado: es el valor a buscar (47)\n",
        "\n",
        "1. Hacer DER = longitud( L ) - 1\n",
        "2. Hacer IZQ = 0\n",
        "3. si IZQ > DER significa que hay un error en los datos\n",
        "4. calcular MID = int(IZQ + DER/2)\n",
        "5. mientras L[MID] != buscado hacer\n",
        "6.     - preguntar si L[MID] > buscado\n",
        "           - hacer DER = MID \n",
        "       - de lo contrario \n",
        "           - hacer IZQ = MID\n",
        "       - preguntar (DER - IZQ) % 2\n",
        "           - MID = (IZQ + ((DER - IZQ) / 2)) + 1\n",
        "       - de lo contrario\n",
        "           - MID = IZQ + ((DER - IZQ) / 2)\n",
        "14. return MID\n"
      ]
    },
    {
      "cell_type": "code",
      "metadata": {
        "id": "0JL9xvrPSIXx",
        "outputId": "13c5cc96-a9b6-412e-f4b7-e9a390cfeab7",
        "colab": {
          "base_uri": "https://localhost:8080/",
          "height": 490
        }
      },
      "source": [
        "\"\"\"\n",
        "Busqueda lineal \n",
        "regresa la posicion de elemento 'buscado' si se encuentra dentro de la lista.\n",
        "regresa -1 si el elemento buscado no existe dentro de la lista \n",
        "\"\"\"\n",
        "\n",
        "def busqueda_lineal( L , buscado ):\n",
        "  indice = -1\n",
        "  contador = 0\n",
        "  for idx in range(len(L)):\n",
        "    contador += 1\n",
        "    if L[idx]==buscado:\n",
        "      indice=idx\n",
        "      break\n",
        "  print(f\"nbumero de comparaciones realizadas={contador}\")\n",
        "  return indice\n",
        "\n",
        "\"\"\"\n",
        "Busqueda binaria\n",
        "\"\"\"\n",
        "def busqueda_binarioa(L,buscado):\n",
        "  IZQ = 0\n",
        "  DER = len(L)-1\n",
        "  MID = int((IZQ+DER)/2)\n",
        "  if len(L)%2==0:\n",
        "    MID = (DER//2)+1\n",
        "  else:\n",
        "    MID = (DER//2)\n",
        "  \n",
        "  while (L[MID] != buscado):\n",
        "    if L[MID] > buscado:\n",
        "      DER = MID\n",
        "    else:\n",
        "      IZQ = MID\n",
        "    if (DER-IZQ)%2 == 0:\n",
        "      MID = IZQ+(DER-IZQ//2)+1\n",
        "    else:\n",
        "      MID = IZQ+((DER-IZQ)//2)\n",
        "  return MID\n",
        "    \n",
        "\n",
        "def main():\n",
        "  datos = [ 4,18,47,2,34,14,78,12,48,21,31,19,1,3,5 ]\n",
        "  dato = int(input(\"¿Que valor quieres buscar?: \"))\n",
        "  resultado=busqueda_lineal(datos,dato)\n",
        "  print(\"Resultado:\",resultado)\n",
        "  print(\"busqueda lineal en una lista ordenada\")\n",
        "  datos.sort()\n",
        "  print(datos)\n",
        "  resultado=busqueda_lineal(datos,dato)\n",
        "  print(\"Resultado:\",resultado)\n",
        "  \n",
        "  print(\"busqueda binaria\")\n",
        "  posicion = busqueda_binarioa(datos,dato)\n",
        "  print(f\"EL elemento {dato} esta en la posicion {posicion} de la lista\")\n",
        "\n",
        "main()"
      ],
      "execution_count": null,
      "outputs": [
        {
          "output_type": "stream",
          "text": [
            "¿Que valor quieres buscar?: 47\n",
            "nbumero de comparaciones realizadas=3\n",
            "Resultado: 2\n",
            "busqueda lineal en una lista ordenada\n",
            "[1, 2, 3, 4, 5, 12, 14, 18, 19, 21, 31, 34, 47, 48, 78]\n",
            "nbumero de comparaciones realizadas=13\n",
            "Resultado: 12\n",
            "busqueda binaria\n"
          ],
          "name": "stdout"
        },
        {
          "output_type": "error",
          "ename": "IndexError",
          "evalue": "ignored",
          "traceback": [
            "\u001b[0;31m---------------------------------------------------------------------------\u001b[0m",
            "\u001b[0;31mIndexError\u001b[0m                                Traceback (most recent call last)",
            "\u001b[0;32m<ipython-input-13-765445fe2f80>\u001b[0m in \u001b[0;36m<module>\u001b[0;34m()\u001b[0m\n\u001b[1;32m     55\u001b[0m   \u001b[0mprint\u001b[0m\u001b[0;34m(\u001b[0m\u001b[0;34mf\"EL elemento {dato} esta en la posicion {posicion} de la lista\"\u001b[0m\u001b[0;34m)\u001b[0m\u001b[0;34m\u001b[0m\u001b[0;34m\u001b[0m\u001b[0m\n\u001b[1;32m     56\u001b[0m \u001b[0;34m\u001b[0m\u001b[0m\n\u001b[0;32m---> 57\u001b[0;31m \u001b[0mmain\u001b[0m\u001b[0;34m(\u001b[0m\u001b[0;34m)\u001b[0m\u001b[0;34m\u001b[0m\u001b[0;34m\u001b[0m\u001b[0m\n\u001b[0m",
            "\u001b[0;32m<ipython-input-13-765445fe2f80>\u001b[0m in \u001b[0;36mmain\u001b[0;34m()\u001b[0m\n\u001b[1;32m     52\u001b[0m \u001b[0;34m\u001b[0m\u001b[0m\n\u001b[1;32m     53\u001b[0m   \u001b[0mprint\u001b[0m\u001b[0;34m(\u001b[0m\u001b[0;34m\"busqueda binaria\"\u001b[0m\u001b[0;34m)\u001b[0m\u001b[0;34m\u001b[0m\u001b[0;34m\u001b[0m\u001b[0m\n\u001b[0;32m---> 54\u001b[0;31m   \u001b[0mposicion\u001b[0m \u001b[0;34m=\u001b[0m \u001b[0mbusqueda_binarioa\u001b[0m\u001b[0;34m(\u001b[0m\u001b[0mdatos\u001b[0m\u001b[0;34m,\u001b[0m\u001b[0mdato\u001b[0m\u001b[0;34m)\u001b[0m\u001b[0;34m\u001b[0m\u001b[0;34m\u001b[0m\u001b[0m\n\u001b[0m\u001b[1;32m     55\u001b[0m   \u001b[0mprint\u001b[0m\u001b[0;34m(\u001b[0m\u001b[0;34mf\"EL elemento {dato} esta en la posicion {posicion} de la lista\"\u001b[0m\u001b[0;34m)\u001b[0m\u001b[0;34m\u001b[0m\u001b[0;34m\u001b[0m\u001b[0m\n\u001b[1;32m     56\u001b[0m \u001b[0;34m\u001b[0m\u001b[0m\n",
            "\u001b[0;32m<ipython-input-13-765445fe2f80>\u001b[0m in \u001b[0;36mbusqueda_binarioa\u001b[0;34m(L, buscado)\u001b[0m\n\u001b[1;32m     28\u001b[0m     \u001b[0mMID\u001b[0m \u001b[0;34m=\u001b[0m \u001b[0;34m(\u001b[0m\u001b[0mDER\u001b[0m\u001b[0;34m//\u001b[0m\u001b[0;36m2\u001b[0m\u001b[0;34m)\u001b[0m\u001b[0;34m\u001b[0m\u001b[0;34m\u001b[0m\u001b[0m\n\u001b[1;32m     29\u001b[0m \u001b[0;34m\u001b[0m\u001b[0m\n\u001b[0;32m---> 30\u001b[0;31m   \u001b[0;32mwhile\u001b[0m \u001b[0;34m(\u001b[0m\u001b[0mL\u001b[0m\u001b[0;34m[\u001b[0m\u001b[0mMID\u001b[0m\u001b[0;34m]\u001b[0m \u001b[0;34m!=\u001b[0m \u001b[0mbuscado\u001b[0m\u001b[0;34m)\u001b[0m\u001b[0;34m:\u001b[0m\u001b[0;34m\u001b[0m\u001b[0;34m\u001b[0m\u001b[0m\n\u001b[0m\u001b[1;32m     31\u001b[0m     \u001b[0;32mif\u001b[0m \u001b[0mL\u001b[0m\u001b[0;34m[\u001b[0m\u001b[0mMID\u001b[0m\u001b[0;34m]\u001b[0m \u001b[0;34m>\u001b[0m \u001b[0mbuscado\u001b[0m\u001b[0;34m:\u001b[0m\u001b[0;34m\u001b[0m\u001b[0;34m\u001b[0m\u001b[0m\n\u001b[1;32m     32\u001b[0m       \u001b[0mDER\u001b[0m \u001b[0;34m=\u001b[0m \u001b[0mMID\u001b[0m\u001b[0;34m\u001b[0m\u001b[0;34m\u001b[0m\u001b[0m\n",
            "\u001b[0;31mIndexError\u001b[0m: list index out of range"
          ]
        }
      ]
    }
  ]
}