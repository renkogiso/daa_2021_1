{
  "nbformat": 4,
  "nbformat_minor": 0,
  "metadata": {
    "colab": {
      "name": "7_Dic_DAA.ipynb",
      "provenance": [],
      "authorship_tag": "ABX9TyPzFhjyQe4ffzvRmwluOSZx",
      "include_colab_link": true
    },
    "kernelspec": {
      "name": "python3",
      "display_name": "Python 3"
    }
  },
  "cells": [
    {
      "cell_type": "markdown",
      "metadata": {
        "id": "view-in-github",
        "colab_type": "text"
      },
      "source": [
        "<a href=\"https://colab.research.google.com/github/renkogiso/daa_2021_1/blob/master/7_Dic_DAA.ipynb\" target=\"_parent\"><img src=\"https://colab.research.google.com/assets/colab-badge.svg\" alt=\"Open In Colab\"/></a>"
      ]
    },
    {
      "cell_type": "code",
      "metadata": {
        "id": "PONQWMLJ9hN1"
      },
      "source": [
        "def fnRecInfinita():\n",
        "  print(\"hola\")\n",
        "  fnRecInfinita()\n",
        "\n",
        "def fnrec(x):\n",
        "  if x==0:\n",
        "    print(\"stop\")\n",
        "  else:\n",
        "    fnrec(x-1)\n",
        "    print(x)\n"
      ],
      "execution_count": null,
      "outputs": []
    },
    {
      "cell_type": "code",
      "metadata": {
        "colab": {
          "base_uri": "https://localhost:8080/"
        },
        "id": "bFJTLFUxAUsi",
        "outputId": "df989979-f6e7-44d4-e164-d073598ce19b"
      },
      "source": [
        "print(\"inicio del programa\")\n",
        "fnrec(5)\n",
        "print(\"Fin del programa\")\n"
      ],
      "execution_count": null,
      "outputs": [
        {
          "output_type": "stream",
          "text": [
            "inicio del programa\n",
            "stop\n",
            "1\n",
            "2\n",
            "3\n",
            "4\n",
            "5\n",
            "Fin del programa\n"
          ],
          "name": "stdout"
        }
      ]
    },
    {
      "cell_type": "code",
      "metadata": {
        "id": "3HibQaY5AVoY"
      },
      "source": [
        "fnRecInfinita()"
      ],
      "execution_count": null,
      "outputs": []
    },
    {
      "cell_type": "code",
      "metadata": {
        "id": "LwmuD8kzBcUH"
      },
      "source": [
        "def printRev(n):\n",
        "  if n>0:\n",
        "    print(n)\n",
        "    printRev(n-1)\n",
        "\n",
        "printRev(10)\n"
      ],
      "execution_count": null,
      "outputs": []
    },
    {
      "cell_type": "code",
      "metadata": {
        "colab": {
          "base_uri": "https://localhost:8080/"
        },
        "id": "HKu01yhpIvtG",
        "outputId": "2fe18132-5dd7-43c2-c80a-61c7de94fcd6"
      },
      "source": [
        "def fibonacci(n):\n",
        "  print(\"llamada:\",n)\n",
        "  if n==1 or n==0:\n",
        "    return n\n",
        "  else:\n",
        "    return (fibonacci(n-1)+fibonacci(n-2))\n",
        "\n",
        "print(fibonacci(3))"
      ],
      "execution_count": 11,
      "outputs": [
        {
          "output_type": "stream",
          "text": [
            "llamada: 3\n",
            "llamada: 2\n",
            "llamada: 1\n",
            "llamada: 0\n",
            "llamada: 1\n",
            "2\n"
          ],
          "name": "stdout"
        }
      ]
    },
    {
      "cell_type": "code",
      "metadata": {
        "id": "KRDc7tJIuw6Q"
      },
      "source": [
        "def merge_sort(arreglo,izquierda,derecha):\n",
        "  if izquierda>=derecha:\n",
        "    return\n",
        "  \n",
        "  mitad= (izquierda+derecha)//2\n",
        "  marge_sort(arreglo,izquierda,mitad)\n",
        "  marge_sort(arreglo,mitad+1,derecha)\n",
        "  print(\"llamar Merge\")\n",
        "  merge(arreglo,izquierda,derecha,mitad)\n",
        "  "
      ],
      "execution_count": 13,
      "outputs": []
    }
  ]
}