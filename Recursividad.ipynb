{
  "nbformat": 4,
  "nbformat_minor": 0,
  "metadata": {
    "colab": {
      "name": "Recursividad.ipynb",
      "provenance": [],
      "authorship_tag": "ABX9TyMeJHkbwHc9E3JdyYYTSUhp",
      "include_colab_link": true
    },
    "kernelspec": {
      "name": "python3",
      "display_name": "Python 3"
    }
  },
  "cells": [
    {
      "cell_type": "markdown",
      "metadata": {
        "id": "view-in-github",
        "colab_type": "text"
      },
      "source": [
        "<a href=\"https://colab.research.google.com/github/renkogiso/daa_2021_1/blob/master/Recursividad.ipynb\" target=\"_parent\"><img src=\"https://colab.research.google.com/assets/colab-badge.svg\" alt=\"Open In Colab\"/></a>"
      ]
    },
    {
      "cell_type": "code",
      "metadata": {
        "colab": {
          "base_uri": "https://localhost:8080/"
        },
        "id": "H8Tj1rSNNIo-",
        "outputId": "955e9504-c2ab-4671-efee-79ab18c7192c"
      },
      "source": [
        "num=[22,3,45,5]\n",
        "def suma(num,total=0):\n",
        "  if len(num)==0:\n",
        "    return total\n",
        "  else:\n",
        "    tmp=num[0]\n",
        "    num.remove(num[0])\n",
        "    total+=tmp\n",
        "    return suma(num,total)\n",
        "\n",
        "suma(num)"
      ],
      "execution_count": null,
      "outputs": [
        {
          "output_type": "execute_result",
          "data": {
            "text/plain": [
              "75"
            ]
          },
          "metadata": {
            "tags": []
          },
          "execution_count": 6
        }
      ]
    },
    {
      "cell_type": "code",
      "metadata": {
        "colab": {
          "base_uri": "https://localhost:8080/"
        },
        "id": "1hBUYobrc6ZO",
        "outputId": "0c31aef9-05b8-4a8e-db6c-92271c891374"
      },
      "source": [
        "def regresivo(num):\n",
        "  if num>=0:\n",
        "    print(num)\n",
        "    regresivo(num-1)\n",
        "\n",
        "regresivo(5)"
      ],
      "execution_count": null,
      "outputs": [
        {
          "output_type": "stream",
          "text": [
            "5\n",
            "4\n",
            "3\n",
            "2\n",
            "1\n",
            "0\n"
          ],
          "name": "stdout"
        }
      ]
    },
    {
      "cell_type": "code",
      "metadata": {
        "colab": {
          "base_uri": "https://localhost:8080/"
        },
        "id": "GO08tlVzqyDD",
        "outputId": "9ba5a2ca-2d9e-4847-fed9-8a89674d3355"
      },
      "source": [
        "pila=[32,3,3,2,253,6,3]\n",
        "n=len(pila)\n",
        "def sacarValorPosicionMedia(contador=0):\n",
        "  if contador<(n//2):\n",
        "    tmp=pila.pop()\n",
        "    sacarValorPosicionMedia(contador+1)\n",
        "    pila.append(tmp)\n",
        "  if contador==(n//2):\n",
        "    pila.pop()\n",
        "    sacarValorPosicionMedia(contador+1)\n",
        "  else:\n",
        "    return pila\n",
        "\n",
        "print(sacarValorPosicionMedia(),\"pila\")"
      ],
      "execution_count": null,
      "outputs": [
        {
          "output_type": "stream",
          "text": [
            "[32, 3, 3, 253, 6, 3] pila\n"
          ],
          "name": "stdout"
        }
      ]
    }
  ]
}