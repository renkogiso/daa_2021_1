{
  "nbformat": 4,
  "nbformat_minor": 0,
  "metadata": {
    "colab": {
      "name": "28septiembre.ipynb",
      "provenance": [],
      "authorship_tag": "ABX9TyNcgYioy7nsrfGQezYYeLP5",
      "include_colab_link": true
    },
    "kernelspec": {
      "name": "python3",
      "display_name": "Python 3"
    }
  },
  "cells": [
    {
      "cell_type": "markdown",
      "metadata": {
        "id": "view-in-github",
        "colab_type": "text"
      },
      "source": [
        "<a href=\"https://colab.research.google.com/github/renkogiso/daa_2021_1/blob/master/28septiembre.ipynb\" target=\"_parent\"><img src=\"https://colab.research.google.com/assets/colab-badge.svg\" alt=\"Open In Colab\"/></a>"
      ]
    },
    {
      "cell_type": "markdown",
      "metadata": {
        "id": "YWvhz8zWDnao"
      },
      "source": [
        "# Seccion 1\n",
        "\n"
      ]
    },
    {
      "cell_type": "markdown",
      "metadata": {
        "id": "N3OgbgobDhWu"
      },
      "source": [
        "En este archivo aprenderemos a programar en Python con la herramienta de Google Colab Research.\n",
        "\n",
        "También aprenderemos a guardar nuestros cambios a nuestro repositorio de github.com"
      ]
    },
    {
      "cell_type": "markdown",
      "metadata": {
        "id": "78yzGES6DxIT"
      },
      "source": [
        "## Codigo de ejemplo\n",
        "**negritas**\n",
        "_italicas_\n",
        "\n",
        "`\n",
        "edad=10\n",
        "print(edad)\n",
        "`"
      ]
    },
    {
      "cell_type": "code",
      "metadata": {
        "id": "NA8UKvcLGfbg",
        "outputId": "63ef1aff-ee03-458b-81ca-d2d165f00e1a",
        "colab": {
          "base_uri": "https://localhost:8080/",
          "height": 34
        }
      },
      "source": [
        "frutas=[]\n",
        "frutas.append('manzana')\n",
        "frutas.append('piña')\n",
        "frutas.append('kiwi')\n",
        "print(frutas)\n"
      ],
      "execution_count": 4,
      "outputs": [
        {
          "output_type": "stream",
          "text": [
            "['manzana', 'piña', 'kiwi']\n"
          ],
          "name": "stdout"
        }
      ]
    },
    {
      "cell_type": "code",
      "metadata": {
        "id": "R9Wem-b3Hr92"
      },
      "source": [
        "archivo=open('prueba_daa.txt','wt')\n",
        "archivo.write(\"hola mundo Jupyter\")\n",
        "archivo.close()"
      ],
      "execution_count": 2,
      "outputs": []
    }
  ]
}