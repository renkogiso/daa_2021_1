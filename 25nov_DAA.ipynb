{
  "nbformat": 4,
  "nbformat_minor": 0,
  "metadata": {
    "colab": {
      "name": "25nov_DAA.ipynb",
      "provenance": [],
      "authorship_tag": "ABX9TyNqnLCn0WOHP42odGLkQhgH",
      "include_colab_link": true
    },
    "kernelspec": {
      "name": "python3",
      "display_name": "Python 3"
    }
  },
  "cells": [
    {
      "cell_type": "markdown",
      "metadata": {
        "id": "view-in-github",
        "colab_type": "text"
      },
      "source": [
        "<a href=\"https://colab.research.google.com/github/renkogiso/daa_2021_1/blob/master/25nov_DAA.ipynb\" target=\"_parent\"><img src=\"https://colab.research.google.com/assets/colab-badge.svg\" alt=\"Open In Colab\"/></a>"
      ]
    },
    {
      "cell_type": "code",
      "metadata": {
        "colab": {
          "base_uri": "https://localhost:8080/"
        },
        "id": "N2ksqywW_Jvl",
        "outputId": "37bd7957-272b-4fd7-c92f-1f7d7e12ef2f"
      },
      "source": [
        "from slugify import slugify\n",
        "cad=\"El lema que anima a la Universidad Nacional, Por mi raza hablará el espíritu, revela la vocación humanística con la que fue concebida. El autor de esta célebre frase, José Vasconcelos, asumió la rectoría en 1920, en una época en que las esperanzas de la Revolución aún estaban vivas, había una gran fe en la Patria y el ánimo redentor se extendía en el ambiente.\"\n",
        "cad=slugify(cad,separator=\" \")\n",
        "\n",
        "palabras=cad.split(\" \")\n",
        "lista={}\n",
        "\n",
        "for i in palabras:\n",
        "  contador=0\n",
        "  if lista.get(i)==None:\n",
        "    for j in palabras:\n",
        "      if i == j:\n",
        "        contador+=1\n",
        "    lista[i]=contador\n",
        "  \n",
        "print(lista)"
      ],
      "execution_count": null,
      "outputs": [
        {
          "output_type": "stream",
          "text": [
            "{'el': 5, 'lema': 1, 'que': 3, 'anima': 1, 'a': 1, 'la': 6, 'universidad': 1, 'nacional': 1, 'por': 1, 'mi': 1, 'raza': 1, 'hablara': 1, 'espiritu': 1, 'revela': 1, 'vocacion': 1, 'humanistica': 1, 'con': 1, 'fue': 1, 'concebida': 1, 'autor': 1, 'de': 2, 'esta': 1, 'celebre': 1, 'frase': 1, 'jose': 1, 'vasconcelos': 1, 'asumio': 1, 'rectoria': 1, 'en': 5, '1920': 1, 'una': 2, 'epoca': 1, 'las': 1, 'esperanzas': 1, 'revolucion': 1, 'aun': 1, 'estaban': 1, 'vivas': 1, 'habia': 1, 'gran': 1, 'fe': 1, 'patria': 1, 'y': 1, 'animo': 1, 'redentor': 1, 'se': 1, 'extendia': 1, 'ambiente': 1}\n"
          ],
          "name": "stdout"
        }
      ]
    },
    {
      "cell_type": "code",
      "metadata": {
        "colab": {
          "base_uri": "https://localhost:8080/"
        },
        "id": "S6ASCBrrr9PK",
        "outputId": "31ace7b5-dfb5-4fe7-f0b0-536122f00d17"
      },
      "source": [
        "from slugify import slugify\n",
        "cad=\"El lema que anima a la Universidad Nacional, Por mi raza hablará el espíritu, revela la vocación humanística con la que fue concebida. El autor de esta célebre frase, José Vasconcelos, asumió la rectoría en 1920, en una época en que las esperanzas de la Revolución aún estaban vivas, había una gran fe en la Patria y el ánimo redentor se extendía en el ambiente.\"\n",
        "cad=slugify(cad,separator=\" \")\n",
        "\n",
        "frec=cad.split(\" \")\n",
        "palabras={}\n",
        "for i in frec:\n",
        "  if palabras.get(i)==None:\n",
        "    palabras[i]=frec.count(i)\n",
        "\n",
        "print(palabras)"
      ],
      "execution_count": 7,
      "outputs": [
        {
          "output_type": "stream",
          "text": [
            "{'el': 5, 'lema': 1, 'que': 3, 'anima': 1, 'a': 1, 'la': 6, 'universidad': 1, 'nacional': 1, 'por': 1, 'mi': 1, 'raza': 1, 'hablara': 1, 'espiritu': 1, 'revela': 1, 'vocacion': 1, 'humanistica': 1, 'con': 1, 'fue': 1, 'concebida': 1, 'autor': 1, 'de': 2, 'esta': 1, 'celebre': 1, 'frase': 1, 'jose': 1, 'vasconcelos': 1, 'asumio': 1, 'rectoria': 1, 'en': 5, '1920': 1, 'una': 2, 'epoca': 1, 'las': 1, 'esperanzas': 1, 'revolucion': 1, 'aun': 1, 'estaban': 1, 'vivas': 1, 'habia': 1, 'gran': 1, 'fe': 1, 'patria': 1, 'y': 1, 'animo': 1, 'redentor': 1, 'se': 1, 'extendia': 1, 'ambiente': 1}\n"
          ],
          "name": "stdout"
        }
      ]
    },
    {
      "cell_type": "code",
      "metadata": {
        "colab": {
          "base_uri": "https://localhost:8080/"
        },
        "id": "slb1bm5l7HCI",
        "outputId": "03500648-2ff1-4e2e-cd17-3968800b86e1"
      },
      "source": [
        "frase=\"El lema que anima a la Universidad Nacional, Por mi raza hablará el espíritu, revela la vocación humanística con la que fue concebida. El autor de esta célebre frase, José Vasconcelos, asumió la rectoría en 1920, en una época en que las esperanzas de la Revolución aún estaban vivas, había una gran fe en la Patria y el ánimo redentor se extendía en el ambiente.\"\n",
        "\n",
        "frase=frase.strip().replace(\"\\n\",\"\").replace(\",\",\"\").replace(\".\",\"\").lower().split(\" \")\n",
        "print(frase)\n",
        "frecuencias={}\n",
        "\n",
        "fdeN\n",
        "\n",
        "for index in range(len(frase)):\n",
        "  for pivote in range(index+1,len(frase),1):\n",
        "    if frase[index] in frecuencias:\n",
        "      pass\n",
        "    else:\n",
        "      frecuencias[frase[index]]=1\n",
        "      for pivote in range(index+1,len(frase),1):\n",
        "        if frase[index]==frase[pivote]:\n",
        "          frecuencias[frase[index]]+=1\n",
        "    # print(frase[index],\"comparada contra:\",frase[pivote])\n",
        "\n",
        "print(frecuencias)"
      ],
      "execution_count": 27,
      "outputs": [
        {
          "output_type": "stream",
          "text": [
            "['el', 'lema', 'que', 'anima', 'a', 'la', 'universidad', 'nacional', 'por', 'mi', 'raza', 'hablará', 'el', 'espíritu', 'revela', 'la', 'vocación', 'humanística', 'con', 'la', 'que', 'fue', 'concebida', 'el', 'autor', 'de', 'esta', 'célebre', 'frase', 'josé', 'vasconcelos', 'asumió', 'la', 'rectoría', 'en', '1920', 'en', 'una', 'época', 'en', 'que', 'las', 'esperanzas', 'de', 'la', 'revolución', 'aún', 'estaban', 'vivas', 'había', 'una', 'gran', 'fe', 'en', 'la', 'patria', 'y', 'el', 'ánimo', 'redentor', 'se', 'extendía', 'en', 'el', 'ambiente']\n",
            "{'el': 5, 'lema': 1, 'que': 3, 'anima': 1, 'a': 1, 'la': 6, 'universidad': 1, 'nacional': 1, 'por': 1, 'mi': 1, 'raza': 1, 'hablará': 1, 'espíritu': 1, 'revela': 1, 'vocación': 1, 'humanística': 1, 'con': 1, 'fue': 1, 'concebida': 1, 'autor': 1, 'de': 2, 'esta': 1, 'célebre': 1, 'frase': 1, 'josé': 1, 'vasconcelos': 1, 'asumió': 1, 'rectoría': 1, 'en': 5, '1920': 1, 'una': 2, 'época': 1, 'las': 1, 'esperanzas': 1, 'revolución': 1, 'aún': 1, 'estaban': 1, 'vivas': 1, 'había': 1, 'gran': 1, 'fe': 1, 'patria': 1, 'y': 1, 'ánimo': 1, 'redentor': 1, 'se': 1, 'extendía': 1}\n"
          ],
          "name": "stdout"
        }
      ]
    },
    {
      "cell_type": "code",
      "metadata": {
        "colab": {
          "base_uri": "https://localhost:8080/"
        },
        "id": "eS0GWPjkAJi6",
        "outputId": "f76c5e50-3b72-484b-91e2-6ad802a0e3b2"
      },
      "source": [
        "frase=\"El lema que anima a la Universidad Nacional, Por mi raza hablará el espíritu, revela la vocación humanística con la que fue concebida. El autor de esta célebre frase, José Vasconcelos, asumió la rectoría en 1920, en una época en que las esperanzas de la Revolución aún estaban vivas, había una gran fe en la Patria y el ánimo redentor se extendía en el ambiente.\"\n",
        "frase=frase.strip().replace(\"\\n\",\"\").replace(\",\",\"\").replace(\".\",\"\").lower().split(\" \")\n",
        "frecuencias={}\n",
        "for index in range(len(frase)):\n",
        "  print(hash(frase[index]))\n",
        "  if frase[index] in frecuencias:\n",
        "    frecuencias[frase[index]]+=1\n",
        "  else:\n",
        "    frecuencias[frase[index]]=1\n",
        "print(frecuencias)"
      ],
      "execution_count": 29,
      "outputs": [
        {
          "output_type": "stream",
          "text": [
            "-4233770297236212941\n",
            "5851689915114755628\n",
            "-1289369233846173593\n",
            "4092083596483303657\n",
            "-4438958943458965352\n",
            "2715670132166202538\n",
            "-5225419374006635206\n",
            "1958543097032855862\n",
            "4850971375908001752\n",
            "-7427993896343152912\n",
            "-6822068588516751808\n",
            "-6426214168193634074\n",
            "-4233770297236212941\n",
            "-7850078304320340471\n",
            "-6813801496501542894\n",
            "2715670132166202538\n",
            "5880585685544391535\n",
            "553394030499515022\n",
            "-468474402922006316\n",
            "2715670132166202538\n",
            "-1289369233846173593\n",
            "-4921355862798028066\n",
            "-3254172605899864521\n",
            "-4233770297236212941\n",
            "3120453674634960743\n",
            "8818318111030095585\n",
            "196307842897271654\n",
            "5418681832913632807\n",
            "3644258276735887071\n",
            "3682973206676785329\n",
            "891684363126459344\n",
            "-8201752359930271007\n",
            "2715670132166202538\n",
            "2833767456764886761\n",
            "-5422334886991498773\n",
            "-9087145172181791843\n",
            "-5422334886991498773\n",
            "-4375501306372949984\n",
            "-4220489931789238368\n",
            "-5422334886991498773\n",
            "-1289369233846173593\n",
            "8128236482185917874\n",
            "-8755637831067982661\n",
            "8818318111030095585\n",
            "2715670132166202538\n",
            "8663845881852428052\n",
            "-7960734398628038345\n",
            "1200883016770841762\n",
            "-235313422237598680\n",
            "-2589886730295722519\n",
            "-4375501306372949984\n",
            "7200483702167087474\n",
            "-5588109599203678846\n",
            "-5422334886991498773\n",
            "2715670132166202538\n",
            "1832452389036846521\n",
            "8523238343146023180\n",
            "-4233770297236212941\n",
            "-2623923335322858071\n",
            "3213511706868230987\n",
            "-4167435903174792996\n",
            "-367441128062065442\n",
            "-5422334886991498773\n",
            "-4233770297236212941\n",
            "8015890999847513442\n",
            "{'el': 5, 'lema': 1, 'que': 3, 'anima': 1, 'a': 1, 'la': 6, 'universidad': 1, 'nacional': 1, 'por': 1, 'mi': 1, 'raza': 1, 'hablará': 1, 'espíritu': 1, 'revela': 1, 'vocación': 1, 'humanística': 1, 'con': 1, 'fue': 1, 'concebida': 1, 'autor': 1, 'de': 2, 'esta': 1, 'célebre': 1, 'frase': 1, 'josé': 1, 'vasconcelos': 1, 'asumió': 1, 'rectoría': 1, 'en': 5, '1920': 1, 'una': 2, 'época': 1, 'las': 1, 'esperanzas': 1, 'revolución': 1, 'aún': 1, 'estaban': 1, 'vivas': 1, 'había': 1, 'gran': 1, 'fe': 1, 'patria': 1, 'y': 1, 'ánimo': 1, 'redentor': 1, 'se': 1, 'extendía': 1, 'ambiente': 1}\n"
          ],
          "name": "stdout"
        }
      ]
    }
  ]
}