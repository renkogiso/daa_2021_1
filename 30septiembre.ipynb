{
  "nbformat": 4,
  "nbformat_minor": 0,
  "metadata": {
    "colab": {
      "name": "30septiembre.ipynb",
      "provenance": [],
      "authorship_tag": "ABX9TyMtbYP251ubdVTv8hF68lZa",
      "include_colab_link": true
    },
    "kernelspec": {
      "name": "python3",
      "display_name": "Python 3"
    }
  },
  "cells": [
    {
      "cell_type": "markdown",
      "metadata": {
        "id": "view-in-github",
        "colab_type": "text"
      },
      "source": [
        "<a href=\"https://colab.research.google.com/github/renkogiso/daa_2021_1/blob/master/30septiembre.ipynb\" target=\"_parent\"><img src=\"https://colab.research.google.com/assets/colab-badge.svg\" alt=\"Open In Colab\"/></a>"
      ]
    },
    {
      "cell_type": "markdown",
      "metadata": {
        "id": "dWfka01WQHPy"
      },
      "source": [
        "# Palindromos\n",
        "Es una palabra que se lle, deigula forma de un sentido y de sentido iniverso, ejemplos:\n",
        "1. sugus\n",
        "1. oso\n",
        "1. reconocer\n",
        "1. 10101\n",
        "2. 10:01\n",
        "etc\n",
        "\n",
        "###Planteamiento del problema:\n",
        "se desea encontrar todos los palindromos que existen en la franja horaria de un dia completo, tomando como horario inicial las 00:00 horas y como horario final las 23:59 horas.\n",
        "\n",
        "El algritmo debe mostrar en pantalla todos los palindromos existentes en ese rango, al final debe mostrar el conteo total de palindromos existentes.\n"
      ]
    },
    {
      "cell_type": "code",
      "metadata": {
        "id": "AN48cBxKOXLX",
        "outputId": "12741fa6-0b9c-4dc5-ebf0-dab35c1ef2bf",
        "colab": {
          "base_uri": "https://localhost:8080/",
          "height": 422
        }
      },
      "source": [
        "horario1=\"0000\"\n",
        "while horario!=\"2359\":\n",
        "  inv=horario[::-1]\n",
        "  if horario==inv:\n",
        "    print(horario)\n",
        "  new=int(horario)\n",
        "  new+=1\n",
        "  horario=str(new).zfill(4)\n"
      ],
      "execution_count": 49,
      "outputs": [
        {
          "output_type": "stream",
          "text": [
            "0110\n",
            "0220\n",
            "0330\n",
            "0440\n",
            "0550\n",
            "0660\n",
            "0770\n",
            "0880\n",
            "0990\n",
            "1001\n",
            "1111\n",
            "1221\n",
            "1331\n",
            "1441\n",
            "1551\n",
            "1661\n",
            "1771\n",
            "1881\n",
            "1991\n",
            "2002\n",
            "2112\n",
            "2222\n",
            "2332\n"
          ],
          "name": "stdout"
        }
      ]
    }
  ]
}