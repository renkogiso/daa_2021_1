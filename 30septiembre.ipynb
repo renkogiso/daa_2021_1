{
  "nbformat": 4,
  "nbformat_minor": 0,
  "metadata": {
    "colab": {
      "name": "30septiembre.ipynb",
      "provenance": [],
      "authorship_tag": "ABX9TyOy8Ohg/vRfeLia7awR4yGl",
      "include_colab_link": true
    },
    "kernelspec": {
      "name": "python3",
      "display_name": "Python 3"
    }
  },
  "cells": [
    {
      "cell_type": "markdown",
      "metadata": {
        "id": "view-in-github",
        "colab_type": "text"
      },
      "source": [
        "<a href=\"https://colab.research.google.com/github/renkogiso/daa_2021_1/blob/master/30septiembre.ipynb\" target=\"_parent\"><img src=\"https://colab.research.google.com/assets/colab-badge.svg\" alt=\"Open In Colab\"/></a>"
      ]
    },
    {
      "cell_type": "markdown",
      "metadata": {
        "id": "dWfka01WQHPy"
      },
      "source": [
        "# Palindromos\n",
        "Es una palabra que se lle, deigula forma de un sentido y de sentido iniverso, ejemplos:\n",
        "1. sugus\n",
        "1. oso\n",
        "1. reconocer\n",
        "1. 10101\n",
        "2. 10:01\n",
        "etc\n",
        "\n",
        "###Planteamiento del problema:\n",
        "se desea encontrar todos los palindromos que existen en la franja horaria de un dia completo, tomando como horario inicial las 00:00 horas y como horario final las 23:59 horas.\n",
        "\n",
        "El algritmo debe mostrar en pantalla todos los palindromos existentes en ese rango, al final debe mostrar el conteo total de palindromos existentes.\n"
      ]
    },
    {
      "cell_type": "code",
      "metadata": {
        "id": "AN48cBxKOXLX",
        "outputId": "d9275943-d849-47d3-98c5-0a49056c01f6",
        "colab": {
          "base_uri": "https://localhost:8080/",
          "height": 316
        }
      },
      "source": [
        "horario=\"0000\"\n",
        "contador=0\n",
        "while horario!=\"2359\":\n",
        "\n",
        "  inv=horario[::-1]\n",
        "  if horario==inv and int(horario[2])<=5:\n",
        "    contador+=1\n",
        "    print(horario[0:2],\":\",horario[2:4])\n",
        "  new=int(horario)\n",
        "  new+=1\n",
        "  horario=str(new).zfill(4)\n",
        "print(\"son \",contador,\"palindromos\")"
      ],
      "execution_count": 75,
      "outputs": [
        {
          "output_type": "stream",
          "text": [
            "00 : 00\n",
            "01 : 10\n",
            "02 : 20\n",
            "03 : 30\n",
            "04 : 40\n",
            "05 : 50\n",
            "10 : 01\n",
            "11 : 11\n",
            "12 : 21\n",
            "13 : 31\n",
            "14 : 41\n",
            "15 : 51\n",
            "20 : 02\n",
            "21 : 12\n",
            "22 : 22\n",
            "23 : 32\n",
            "son  16 palindromos\n"
          ],
          "name": "stdout"
        }
      ]
    }
  ]
}