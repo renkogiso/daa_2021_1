{
  "nbformat": 4,
  "nbformat_minor": 0,
  "metadata": {
    "colab": {
      "name": "11Enero.ipynb",
      "provenance": [],
      "authorship_tag": "ABX9TyN8wcFyAJcoZ+a9L5hvOL7O",
      "include_colab_link": true
    },
    "kernelspec": {
      "name": "python3",
      "display_name": "Python 3"
    }
  },
  "cells": [
    {
      "cell_type": "markdown",
      "metadata": {
        "id": "view-in-github",
        "colab_type": "text"
      },
      "source": [
        "<a href=\"https://colab.research.google.com/github/renkogiso/daa_2021_1/blob/master/11Enero.ipynb\" target=\"_parent\"><img src=\"https://colab.research.google.com/assets/colab-badge.svg\" alt=\"Open In Colab\"/></a>"
      ]
    },
    {
      "cell_type": "code",
      "metadata": {
        "id": "B6j34v2t5StM"
      },
      "source": [
        "class NodoArbol:\n",
        "  def __init__(self, value, left=None, right=None):\n",
        "    self.data=value\n",
        "    self.left=left\n",
        "    self.right=right\n",
        "\n"
      ],
      "execution_count": 3,
      "outputs": []
    },
    {
      "cell_type": "code",
      "metadata": {
        "id": "jICZPX1h8tOg"
      },
      "source": [
        "arbol=NodoArbol(\"R\", NodoArbol(\"C\"),NodoArbol(\"H\"))"
      ],
      "execution_count": 4,
      "outputs": []
    },
    {
      "cell_type": "code",
      "metadata": {
        "id": "Lrax7Wf49svi"
      },
      "source": [
        "nodo1=NodoArbol(\"c\")\n",
        "nodo2=NodoArbol(\"H\")\n",
        "arbol_v2 = NodoArbol(\"R\",nodo1,nodo2)\n"
      ],
      "execution_count": 5,
      "outputs": []
    },
    {
      "cell_type": "code",
      "metadata": {
        "colab": {
          "base_uri": "https://localhost:8080/"
        },
        "id": "nMOtGo15-JXP",
        "outputId": "9844f0ad-dc7e-4d3f-acf3-cec1499d6ec2"
      },
      "source": [
        "print(arbol.right.data)\n",
        "print(arbol_v2.right.data)"
      ],
      "execution_count": 6,
      "outputs": [
        {
          "output_type": "stream",
          "text": [
            "H\n",
            "H\n"
          ],
          "name": "stdout"
        }
      ]
    },
    {
      "cell_type": "code",
      "metadata": {
        "colab": {
          "base_uri": "https://localhost:8080/"
        },
        "id": "Wz8shvk0-yEU",
        "outputId": "7bd157a9-6747-42dc-d436-e0411f6be0e1"
      },
      "source": [
        "arbol2=NodoArbol(4,NodoArbol(3,NodoArbol(2,NodoArbol(2))),NodoArbol(5,NodoArbol(10),NodoArbol(21,NodoArbol(43))))\n",
        "print(arbol2.left.left.left.data)\n"
      ],
      "execution_count": 34,
      "outputs": [
        {
          "output_type": "stream",
          "text": [
            "2\n"
          ],
          "name": "stdout"
        }
      ]
    },
    {
      "cell_type": "code",
      "metadata": {
        "colab": {
          "base_uri": "https://localhost:8080/"
        },
        "id": "G8WLxbKwC9Zr",
        "outputId": "8909c791-dedd-4201-b351-9bce33220dbe"
      },
      "source": [
        "aux = arbol2\n",
        "while aux.left!= None:\n",
        "  aux=aux.left\n",
        "\n",
        "print(aux.data)\n"
      ],
      "execution_count": 8,
      "outputs": [
        {
          "output_type": "stream",
          "text": [
            "2\n"
          ],
          "name": "stdout"
        }
      ]
    },
    {
      "cell_type": "code",
      "metadata": {
        "colab": {
          "base_uri": "https://localhost:8080/"
        },
        "id": "xnBvHavwEYyN",
        "outputId": "cceee44f-9303-4b47-cf4a-0985329cc674"
      },
      "source": [
        "arbol3=NodoArbol(\"Santi\", NodoArbol(\"ren\",NodoArbol(\"renato\",NodoArbol(\"renada\"))), NodoArbol(\"Jesus\",NodoArbol(\"Pedro\",None ,NodoArbol(\"Diana\",NodoArbol(\"german\",NodoArbol(\"brayan\"))))))\n",
        "print(arbol3.data)\n",
        "print(arbol3.right.left.right.data)"
      ],
      "execution_count": 45,
      "outputs": [
        {
          "output_type": "stream",
          "text": [
            "Santi\n",
            "Diana\n"
          ],
          "name": "stdout"
        }
      ]
    },
    {
      "cell_type": "code",
      "metadata": {
        "id": "v7Y81KwIrLfn"
      },
      "source": [
        "arbol4=NodoArbol(\"CEO\",NodoArbol(\"VicePresidente\",NodoArbol(\"Gerente\",NodoArbol(\"Empleado\"))),NodoArbol(\"Socios\",NodoArbol(\"Gerente de tienda\")))"
      ],
      "execution_count": 47,
      "outputs": []
    },
    {
      "cell_type": "code",
      "metadata": {
        "colab": {
          "base_uri": "https://localhost:8080/"
        },
        "id": "6jjMRlIfGIsa",
        "outputId": "eb886179-2b4b-4c75-f2e9-4cfe7794ffbf"
      },
      "source": [
        "def hoja(raiz):\n",
        "  pila=[raiz]\n",
        "  hojaMasProfunda=NodoArbol(None)\n",
        "  contador=0\n",
        "  mayor=0\n",
        "  while len(pila)!=0:\n",
        "    tmp=pila.pop()\n",
        "    if tmp.left!=None:\n",
        "      pila.append(tmp.left)\n",
        "    if tmp.right!=None:\n",
        "      pila.append(tmp.right)\n",
        "    if tmp.left!=None or tmp.right!=None:\n",
        "      contador+=1\n",
        "    else:\n",
        "      if mayor<contador:\n",
        "        mayor=contador\n",
        "        hojaMasProfunda=tmp\n",
        "      contador=1\n",
        "  return hojaMasProfunda.data,mayor\n",
        "\n",
        "nodo,profundidad=hoja(arbol)\n",
        "print(f\"La hoja mas profunda es: {nodo} y su profundidad es: {profundidad}\")\n",
        "nodo,profundidad=hoja(arbol2)\n",
        "print(f\"La hoja mas profunda es: {nodo} y su profundidad es: {profundidad}\")\n",
        "nodo,profundidad=hoja(arbol3)\n",
        "print(f\"La hoja mas profunda es: {nodo} y su profundidad es: {profundidad}\")\n",
        "nodo,profundidad=hoja(arbol4)\n",
        "print(f\"La hoja mas profunda es: {nodo} y su profundidad es: {profundidad}\")"
      ],
      "execution_count": 50,
      "outputs": [
        {
          "output_type": "stream",
          "text": [
            "La hoja mas profunda es: H y su profundidad es: 1\n",
            "La hoja mas profunda es: 43 y su profundidad es: 3\n",
            "La hoja mas profunda es: brayan y su profundidad es: 5\n",
            "La hoja mas profunda es: Empleado y su profundidad es: 3\n"
          ],
          "name": "stdout"
        }
      ]
    }
  ]
}