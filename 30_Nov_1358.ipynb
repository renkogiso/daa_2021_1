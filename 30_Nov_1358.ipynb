{
  "nbformat": 4,
  "nbformat_minor": 0,
  "metadata": {
    "colab": {
      "name": "30_Nov_1358.ipynb",
      "provenance": [],
      "authorship_tag": "ABX9TyMf7ZZxE61kCqlEp/PH8MK/",
      "include_colab_link": true
    },
    "kernelspec": {
      "name": "python3",
      "display_name": "Python 3"
    }
  },
  "cells": [
    {
      "cell_type": "markdown",
      "metadata": {
        "id": "view-in-github",
        "colab_type": "text"
      },
      "source": [
        "<a href=\"https://colab.research.google.com/github/renkogiso/daa_2021_1/blob/master/30_Nov_1358.ipynb\" target=\"_parent\"><img src=\"https://colab.research.google.com/assets/colab-badge.svg\" alt=\"Open In Colab\"/></a>"
      ]
    },
    {
      "cell_type": "code",
      "metadata": {
        "colab": {
          "base_uri": "https://localhost:8080/"
        },
        "id": "cH8CSsNLny-4",
        "outputId": "77abc69f-f036-4e66-fa0a-73ff7bd50722"
      },
      "source": [
        "A = \"AELASESLALSALSALSALSALSALASLSLSLSLSALALALALASALSALLSALAS\"\n",
        "P=\"LAS\"\n",
        "N=len(A)\n",
        "M=len(P)\n",
        "\n",
        "\n",
        "def fuerza_bruta(A,P):\n",
        "  for i in range(N-M+1):\n",
        "    for j in range(M):\n",
        "      if A[i+j] != P[j]:\n",
        "        break\n",
        "    if j+1 == M and A[i+j] == P[j]:\n",
        "      print(\"Encontrado en la posicion:\",i)\n",
        "    \n",
        "fuerza_bruta(A,P)"
      ],
      "execution_count": null,
      "outputs": [
        {
          "output_type": "stream",
          "text": [
            "Encontrado en la posicion: 2\n",
            "Encontrado en la posicion: 24\n",
            "Encontrado en la posicion: 42\n",
            "Encontrado en la posicion: 53\n"
          ],
          "name": "stdout"
        }
      ]
    }
  ]
}