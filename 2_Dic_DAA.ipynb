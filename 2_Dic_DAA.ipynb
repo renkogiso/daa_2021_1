{
  "nbformat": 4,
  "nbformat_minor": 0,
  "metadata": {
    "colab": {
      "name": "2_Dic_DAA.ipynb",
      "provenance": [],
      "authorship_tag": "ABX9TyNFuKo49Fd9ED0D8fo/0PP+",
      "include_colab_link": true
    },
    "kernelspec": {
      "name": "python3",
      "display_name": "Python 3"
    }
  },
  "cells": [
    {
      "cell_type": "markdown",
      "metadata": {
        "id": "view-in-github",
        "colab_type": "text"
      },
      "source": [
        "<a href=\"https://colab.research.google.com/github/renkogiso/daa_2021_1/blob/master/2_Dic_DAA.ipynb\" target=\"_parent\"><img src=\"https://colab.research.google.com/assets/colab-badge.svg\" alt=\"Open In Colab\"/></a>"
      ]
    },
    {
      "cell_type": "code",
      "metadata": {
        "id": "PONQWMLJ9hN1"
      },
      "source": [
        "def fnRecInfinita():\n",
        "  print(\"hola\")\n",
        "  fnRecInfinita()\n",
        "\n",
        "def fnrec(x):\n",
        "  if x==0:\n",
        "    print(\"stop\")\n",
        "  else:\n",
        "    fnrec(x-1)\n",
        "    print(x)\n"
      ],
      "execution_count": 17,
      "outputs": []
    },
    {
      "cell_type": "code",
      "metadata": {
        "colab": {
          "base_uri": "https://localhost:8080/"
        },
        "id": "bFJTLFUxAUsi",
        "outputId": "df989979-f6e7-44d4-e164-d073598ce19b"
      },
      "source": [
        "print(\"inicio del programa\")\n",
        "fnrec(5)\n",
        "print(\"Fin del programa\")\n"
      ],
      "execution_count": 18,
      "outputs": [
        {
          "output_type": "stream",
          "text": [
            "inicio del programa\n",
            "stop\n",
            "1\n",
            "2\n",
            "3\n",
            "4\n",
            "5\n",
            "Fin del programa\n"
          ],
          "name": "stdout"
        }
      ]
    },
    {
      "cell_type": "code",
      "metadata": {
        "id": "3HibQaY5AVoY"
      },
      "source": [
        "fnRecInfinita()"
      ],
      "execution_count": null,
      "outputs": []
    },
    {
      "cell_type": "code",
      "metadata": {
        "colab": {
          "base_uri": "https://localhost:8080/"
        },
        "id": "LwmuD8kzBcUH",
        "outputId": "08ef571f-599b-40d0-8ced-44c3bdb3d0e1"
      },
      "source": [
        "def printRev(n):\n",
        "  if n>0:\n",
        "    print(n)\n",
        "    printRev(n-1)\n",
        "\n",
        "printRev(10)\n"
      ],
      "execution_count": 30,
      "outputs": [
        {
          "output_type": "stream",
          "text": [
            "10\n",
            "9\n",
            "8\n",
            "7\n",
            "6\n",
            "5\n",
            "4\n",
            "3\n",
            "2\n",
            "1\n"
          ],
          "name": "stdout"
        }
      ]
    },
    {
      "cell_type": "code",
      "metadata": {
        "colab": {
          "base_uri": "https://localhost:8080/"
        },
        "id": "HKu01yhpIvtG",
        "outputId": "5ae8e713-6ef7-4bbe-f5f3-82032907c398"
      },
      "source": [
        "def fibonacci(n):\n",
        "  if n==1 or n==0:\n",
        "    return n\n",
        "  else:\n",
        "    return (fibonacci(n-1)+fibonacci(n-2))\n",
        "\n",
        "print(fibonacci(9))"
      ],
      "execution_count": 39,
      "outputs": [
        {
          "output_type": "stream",
          "text": [
            "34\n"
          ],
          "name": "stdout"
        }
      ]
    },
    {
      "cell_type": "code",
      "metadata": {
        "colab": {
          "base_uri": "https://localhost:8080/"
        },
        "id": "5-vJaAMZKHsI",
        "outputId": "c238cff0-84ff-4838-ec4c-110af11f9029"
      },
      "source": [
        ""
      ],
      "execution_count": 56,
      "outputs": [
        {
          "output_type": "execute_result",
          "data": {
            "text/plain": [
              "0"
            ]
          },
          "metadata": {
            "tags": []
          },
          "execution_count": 56
        }
      ]
    }
  ]
}