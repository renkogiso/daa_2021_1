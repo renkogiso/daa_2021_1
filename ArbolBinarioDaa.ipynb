{
  "nbformat": 4,
  "nbformat_minor": 0,
  "metadata": {
    "colab": {
      "name": "ArbolBinarioDaa.ipynb",
      "provenance": [],
      "authorship_tag": "ABX9TyMoy3hzkp+K/J8EA3moG86K",
      "include_colab_link": true
    },
    "kernelspec": {
      "name": "python3",
      "display_name": "Python 3"
    }
  },
  "cells": [
    {
      "cell_type": "markdown",
      "metadata": {
        "id": "view-in-github",
        "colab_type": "text"
      },
      "source": [
        "<a href=\"https://colab.research.google.com/github/renkogiso/daa_2021_1/blob/master/ArbolBinarioDaa.ipynb\" target=\"_parent\"><img src=\"https://colab.research.google.com/assets/colab-badge.svg\" alt=\"Open In Colab\"/></a>"
      ]
    },
    {
      "cell_type": "code",
      "metadata": {
        "id": "j63lkpQtMGH-"
      },
      "source": [
        "class NodoArbol:\n",
        "  def __init__(self, value, left=None, right=None):\n",
        "    self.data=value\n",
        "    self.left=left\n",
        "    self.right=right\n",
        "\n"
      ],
      "execution_count": null,
      "outputs": []
    },
    {
      "cell_type": "markdown",
      "metadata": {
        "id": "5puCAd7ZMTd7"
      },
      "source": [
        "# Arbol binario de busqueda\n",
        "Los nodos a la izq son menores a la raiz y los nodos a la derecha son mayores la raiz.\n",
        "Pueden ser recorridos en: pre-orden y pos-orden."
      ]
    },
    {
      "cell_type": "code",
      "metadata": {
        "id": "fLpEC0JVVYBQ"
      },
      "source": [
        "class BinarySearchTree:\n",
        "  def __init__(self):\n",
        "    self._root=None\n",
        "\n",
        "  def insert(self, value):\n",
        "    if self._root==None:\n",
        "      self._root=NodoArbol(value)\n",
        "    else:\n",
        "      self.__insert_nodo__(self._root, value)\n",
        "\n",
        "  def __insert_nodo__(self, nodo, value):\n",
        "    if nodo.data==value:\n",
        "      pass\n",
        "    elif value<nodo.data: # true va a la IZQ \n",
        "      if nodo.left==None:# si hay espacio en la izq, ahi va\n",
        "        nodo.left=NodoArbol(value)# insertamos en sub\n",
        "      else:\n",
        "        self.__insert_nodo__(nodo.left,value) # buscar en sub\n",
        "    else: # ir a la derecha \n",
        "      if nodo.right==None:\n",
        "        nodo.right=NodoArbol(value)\n",
        "      else:\n",
        "        self.__insert_nodo__(nodo.right,value) #buscar en sub\n",
        "\n",
        "  def buscar(self, value):\n",
        "    if self._root==None:\n",
        "      return None\n",
        "    else:\n",
        "      # haremos busqueda recursiva\n",
        "      return self.__busca_nodo(self._root,value)\n",
        "\n",
        "  def __busca_nodo(self, nodo, value):\n",
        "    if nodo==None:\n",
        "      return None\n",
        "    elif nodo.data==value:\n",
        "      return nodo\n",
        "    elif value<nodo.data:\n",
        "      return self.__busca_nodo(nodo.left,value)\n",
        "    else:\n",
        "      return self.__busca_nodo(nodo.right,value)\n",
        "\n",
        "  def transversal(self, format=\"inorden\"):\n",
        "    if format==\"inorden\":\n",
        "      self.__recorrido_in(self._root)\n",
        "    elif format==\"preorden\":\n",
        "      self.__recorrido_pre(self._root)\n",
        "    elif format==\"posorden\":\n",
        "      self.__recorrido_pos(self._root)\n",
        "    else:\n",
        "      print(\"Formato de recorrido no valido\") \n",
        "\n",
        "  def __recorrido_pre(self, nodo):\n",
        "    if nodo!=None:\n",
        "      print(nodo.data,end=\",\")\n",
        "      self.__recorrido_pre(nodo.left)\n",
        "      self.__recorrido_pre(nodo.right)\n",
        "  \n",
        "  def __recorrido_in(self, nodo):\n",
        "    if nodo!=None:\n",
        "      self.__recorrido_in(nodo.left)\n",
        "      print(nodo.data,end=\",\")\n",
        "      self.__recorrido_in(nodo.right)\n",
        "  \n",
        "  def __recorrido_pos(self, nodo):\n",
        "    if nodo!=None:\n",
        "      self.__recorrido_pos(nodo.left)\n",
        "      self.__recorrido_pos(nodo.right)\n",
        "      print(nodo.data,end=\",\")\n",
        "\n",
        "  def eliminar(self, value):\n",
        "    self.__eliminar_nodo(self._root, self._root, self._root, None, value)\n",
        "\n",
        "  def __eliminar_nodo(self, root, nodo, anterior, actual, value):\n",
        "    if nodo==None:\n",
        "      return print(\"No existe ese nodo\")\n",
        "    if nodo.data==value:\n",
        "      if nodo.left==None and nodo.right==None: #ya esta\n",
        "        if actual==\"izq\":\n",
        "          anterior.left=None\n",
        "        elif actual==\"der\":\n",
        "          anterior.right=None\n",
        "        print(\"solo se borro el nodo\")\n",
        "      elif nodo.left==None and nodo.right!=None:\n",
        "        if actual==\"izq\":\n",
        "          anterior.left=nodo.right\n",
        "        else:\n",
        "          anterior.right=nodo.right\n",
        "        print(\"se paso el unico nodo derecho hacia arriba\")\n",
        "      elif nodo.left!=None and nodo.right==None:\n",
        "        if actual==\"izq\":\n",
        "          anterior.left=nodo.left\n",
        "        else:\n",
        "          anterior.right=nodo.left\n",
        "        print(\"se paso el unico nodo izquierdo hacia arriba\")\n",
        "      elif nodo.left!=None and nodo.right!=None:  #este es el error\n",
        "        print(\"se hizo algo complejo\")\n",
        "        tmp,anterior2 =self.nodoMasBajo(nodo.right, nodo)\n",
        "        if nodo.data==anterior2.data:\n",
        "          anterior2.right=tmp.right\n",
        "        elif nodo.data!=anterior2.data:\n",
        "          anterior2.left=tmp.right\n",
        "        if actual==\"izq\":\n",
        "          anterior.left=tmp\n",
        "        else:\n",
        "          anterior.right=tmp\n",
        "        tmp.left=nodo.left\n",
        "        tmp.right=nodo.right\n",
        "    elif value<nodo.data:\n",
        "      return self.__eliminar_nodo(root, nodo.left, nodo, \"izq\", value)\n",
        "    else:\n",
        "      return self.__eliminar_nodo(root, nodo.right, nodo, \"der\", value)\n",
        "    \n",
        "  def nodoMasBajo(self, nodo, anterior):\n",
        "    if nodo.left==None:\n",
        "      return nodo, anterior\n",
        "    elif nodo.left!=None:\n",
        "      return self.nodoMasBajo(nodo.left, nodo)"
      ],
      "execution_count": 262,
      "outputs": []
    },
    {
      "cell_type": "code",
      "metadata": {
        "id": "FiLIg_i1bosg",
        "colab": {
          "base_uri": "https://localhost:8080/"
        },
        "outputId": "9b61b799-e814-426f-e2ef-8f1dc47f3169"
      },
      "source": [
        "bst=BinarySearchTree()\n",
        "bst.insert(50)\n",
        "bst.insert(30)\n",
        "bst.insert(110)\n",
        "bst.insert(200)\n",
        "resultado=bst.buscar(30) #true o false ?\n",
        "print(\"dato : {}\".format(resultado.data))\n",
        "print(bst.transversal())\n",
        "bst.eliminar(453)\n",
        "bst.eliminar(110)\n",
        "print(\"____________\")\n",
        "print(bst.transversal())"
      ],
      "execution_count": 265,
      "outputs": [
        {
          "output_type": "stream",
          "text": [
            "dato : 30\n",
            "30,50,110,200,None\n",
            "No existe ese nodo\n",
            "se paso el unico nodo derecho hacia arriba\n",
            "____________\n",
            "30,50,200,None\n"
          ],
          "name": "stdout"
        }
      ]
    },
    {
      "cell_type": "code",
      "metadata": {
        "colab": {
          "base_uri": "https://localhost:8080/"
        },
        "id": "DJY23ABphhIV",
        "outputId": "439de783-9074-41fa-c4f2-913e70555ccf"
      },
      "source": [
        "arbol=BinarySearchTree()\n",
        "arbol.insert(10)\n",
        "arbol.insert(5)\n",
        "arbol.insert(15)\n",
        "arbol.insert(3)\n",
        "arbol.insert(8)\n",
        "arbol.insert(12)\n",
        "arbol.insert(20)\n",
        "arbol.insert(6)\n",
        "arbol.insert(9)\n",
        "arbol.insert(30)\n",
        "arbol.insert(7)\n",
        "\n",
        "print(arbol._root.data)\n",
        "print(arbol._root.left.data)\n",
        "print(arbol._root.right.data)\n",
        "print(arbol._root.left.left.data)\n",
        "print(arbol._root.left.right.data)\n",
        "print(arbol._root.right.left.data)\n",
        "print(arbol._root.right.right.data)\n",
        "\n",
        "print(arbol._root.right.right.right.data)\n",
        "print(arbol.transversal())\n",
        "print(\"____________\")\n",
        "\n",
        "arbol.eliminar(15)\n",
        "print(\"__________________\")\n",
        "print(arbol._root.data)\n",
        "print(arbol._root.left.data)\n",
        "print(arbol._root.right.data)\n",
        "print(arbol._root.left.left.data)\n",
        "print(arbol._root.left.right.left.data)\n",
        "print(arbol._root.right.left.data)\n",
        "print(arbol.transversal())\n",
        "\n"
      ],
      "execution_count": 266,
      "outputs": [
        {
          "output_type": "stream",
          "text": [
            "10\n",
            "5\n",
            "15\n",
            "3\n",
            "8\n",
            "12\n",
            "20\n",
            "30\n",
            "3,5,6,7,8,9,10,12,15,20,30,None\n",
            "____________\n",
            "se hizo algo complejo\n",
            "__________________\n",
            "10\n",
            "5\n",
            "20\n",
            "3\n",
            "6\n",
            "12\n",
            "3,5,6,7,8,9,10,12,20,30,None\n"
          ],
          "name": "stdout"
        }
      ]
    }
  ]
}