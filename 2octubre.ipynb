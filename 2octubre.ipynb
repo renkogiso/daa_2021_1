{
  "nbformat": 4,
  "nbformat_minor": 0,
  "metadata": {
    "colab": {
      "name": "2octubre.ipynb",
      "provenance": [],
      "toc_visible": true,
      "authorship_tag": "ABX9TyMHsiBPEWJtSHIWP5a0NvyJ",
      "include_colab_link": true
    },
    "kernelspec": {
      "name": "python3",
      "display_name": "Python 3"
    }
  },
  "cells": [
    {
      "cell_type": "markdown",
      "metadata": {
        "id": "view-in-github",
        "colab_type": "text"
      },
      "source": [
        "<a href=\"https://colab.research.google.com/github/renkogiso/daa_2021_1/blob/master/2octubre.ipynb\" target=\"_parent\"><img src=\"https://colab.research.google.com/assets/colab-badge.svg\" alt=\"Open In Colab\"/></a>"
      ]
    },
    {
      "cell_type": "markdown",
      "metadata": {
        "id": "TwRE6ILSiFvS"
      },
      "source": [
        "## Meteorología en México\n",
        "En Sistema meteorológico nacional lleva el registro de la lluvias desde el año 1985 y lo pone a disposición de la población por medio de la pagina datos.gob.mx.\n",
        "\n",
        "En la siguiente liga se encuentran 2  archivos separados por comas CSV correspondientes a los registros de lluvias\n",
        "mensuales y anuales de los años 2017 y 2018. En los columnas se encuentran 13,  correspondientes al promedio mensual y el promedio anual.\n",
        "En los renglones se encuentran 33, correspondientes a cada uno de los 32 estados y a nivel nacional.\n",
        "\n",
        "https://drive.google.com/file/d/1lamkxgq2AsXRu81Y4JTNXLVld4og7nxt/view?usp=sharing\n",
        "\n",
        "\n",
        "## Planteamiento del problema\n",
        "Diseñar un algoritmo y programarlo para que:\n",
        "1. Solicite por teclado el año, el estado y el mes, en base a esa información:\n",
        "- muestre en pantalla el promedio de ese mes en ese estado en el año seleccionado.\n",
        "- muestre en pantalla el promedio anual del  estado seleccionado.\n",
        "- muestre la suma de los 12 meses de ese estado en el año seleccionado.\n",
        "2. Busque el mes que mas llovió en todos los estados durante esos dos años. Imprimir año, estado y mes.\n",
        "3. Busque el mes que menos llovió en los dos. Imprimir año, estado y mes.\n",
        "\n"
      ]
    },
    {
      "cell_type": "code",
      "metadata": {
        "id": "o54sgqsFh6pc",
        "outputId": "1c5258ca-b4a6-4bc1-8ee9-33afeb2c766d",
        "colab": {
          "base_uri": "https://localhost:8080/",
          "height": 633
        }
      },
      "source": [
        "import csv\n",
        "def calcular(anio,mes,estado):\n",
        "  if anio==2017:\n",
        "    archivo=\"2017Precip2.csv\"\n",
        "  elif anio==2018:\n",
        "    archivo=\"2018Precip2.csv\"\n",
        "  linea=0\n",
        "  columna=0\n",
        "  mesSelect=\"\"\n",
        "  with open(archivo,newline=\"\") as File:  \n",
        "        reader = csv.reader(File)\n",
        "        for row in reader:\n",
        "            if reader.line_num==2:\n",
        "              for meses in row:\n",
        "                if meses == mes:\n",
        "                  mesSelect=meses\n",
        "\n",
        "  with open(archivo,newline=\"\") as File:  \n",
        "      reader = csv.reader(File)\n",
        "      for row in reader:\n",
        "        if(mesSelect==\"ENE\"):\n",
        "          print(row[1])\n",
        "        elif (mesSelect==\"FEB\"):\n",
        "          print(row[2])\n",
        "        elif (mesSelect==\"MAR\"):\n",
        "          print(row[3])\n",
        "        elif (mesSelect==\"ABR\"):\n",
        "          print(row[4])\n",
        "        elif (mesSelect==\"MAY\"):\n",
        "          print(row[5])\n",
        "        elif (mesSelect==\"JUN\"):\n",
        "          print(row[6])\n",
        "        elif (mesSelect==\"JUL\"):\n",
        "          print(row[7])\n",
        "        elif (mesSelect==\"AGO\"):\n",
        "          print(row[8])\n",
        "        elif (mesSelect==\"SEP\"):\n",
        "          print(row[9])\n",
        "        elif (mesSelect==\"OCT\"):\n",
        "          print(row[10])\n",
        "        elif (mesSelect==\"NOV\"):\n",
        "          print(row[11])\n",
        "        elif (mesSelect==\"DIC\"):\n",
        "          print(row[12])\n",
        "\n",
        "\n",
        "calcular(2017,\"FEB\",1)\n"
      ],
      "execution_count": 141,
      "outputs": [
        {
          "output_type": "stream",
          "text": [
            "\n",
            "FEB\n",
            "2.1 \n",
            "44.9 \n",
            "18.4 \n",
            "6.9 \n",
            "11.1 \n",
            "2.8 \n",
            "8.1 \n",
            "8.1 \n",
            "0.0 \n",
            "7.8 \n",
            "1.5 \n",
            "0.2 \n",
            "5.0 \n",
            "2.9 \n",
            "1.1 \n",
            "1.0 \n",
            "0.1 \n",
            "11.0 \n",
            "7.4 \n",
            "5.7 \n",
            "8.0 \n",
            "2.0 \n",
            "9.5 \n",
            "3.6 \n",
            "30.2 \n",
            "31.3 \n",
            "32.4 \n",
            "14.9 \n",
            "0.4 \n",
            "32.6 \n",
            "2.1 \n",
            "1.3 \n",
            "12.7 \n"
          ],
          "name": "stdout"
        }
      ]
    }
  ]
}