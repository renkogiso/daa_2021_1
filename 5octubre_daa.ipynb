{
  "nbformat": 4,
  "nbformat_minor": 0,
  "metadata": {
    "colab": {
      "name": "5octubre_daa.ipynb",
      "provenance": [],
      "authorship_tag": "ABX9TyNVf2xdb5PKf71utAyKe91S",
      "include_colab_link": true
    },
    "kernelspec": {
      "name": "python3",
      "display_name": "Python 3"
    }
  },
  "cells": [
    {
      "cell_type": "markdown",
      "metadata": {
        "id": "view-in-github",
        "colab_type": "text"
      },
      "source": [
        "<a href=\"https://colab.research.google.com/github/renkogiso/daa_2021_1/blob/master/5octubre_daa.ipynb\" target=\"_parent\"><img src=\"https://colab.research.google.com/assets/colab-badge.svg\" alt=\"Open In Colab\"/></a>"
      ]
    },
    {
      "cell_type": "markdown",
      "metadata": {
        "id": "4w8LZEeZ_GHA"
      },
      "source": [
        "# Estructura de datos Pila(Stack)\n",
        "- Last in First Out (LIFO)\n",
        "- De tipo lineal\n",
        "- Se puden obtener e ingresar datos desde \n",
        "- push para agregar\n",
        "- pop para sacar\n",
        "\n",
        "## operaciones de las pilas\n",
        "\n",
        "1. is_empty (regresa true o false)\n",
        "1. get_top(regresa el elemento en el tope SIN SACARLO)\n",
        "1. pop (Saca el elemnto del tope y lo borra)\n",
        "1. push (mete un elemento en el tope)\n",
        "1. get_length (regresa el numero de elementos de la pila)"
      ]
    },
    {
      "cell_type": "code",
      "metadata": {
        "id": "PEQAKiP9-5EJ"
      },
      "source": [
        "class Stack:\n",
        "  def __init__( self ):\n",
        "    self._datos=[]\n",
        "    self.hola=23\n",
        "  \n",
        "  def is_empty( self ):\n",
        "    return len(self._datos) == 0\n",
        "  \n",
        "  def get_top( self ):\n",
        "    if len(self._datos) > 0:\n",
        "      return self._datos[-1]\n",
        "    else:\n",
        "      return None\n",
        "\n",
        "  def pop( self ):\n",
        "    return self._datos.pop()\n",
        "\n",
        "  def push( self , valor):\n",
        "    self._datos.append(valor)\n",
        "  \n",
        "  def get_length( self ):\n",
        "    return len(self._datos)\n",
        "\n",
        "  def to_String( self ):\n",
        "    print(\"------------------\")\n",
        "    for ele in self._datos[-1::-1]:\n",
        "      print(f\"{ele}\")\n",
        "    print(\"------------------\\n\")\n",
        "  \n",
        "  def get_hola(self):\n",
        "    return self.hola\n"
      ],
      "execution_count": 2,
      "outputs": []
    },
    {
      "cell_type": "code",
      "metadata": {
        "id": "68arrUyWFPog",
        "outputId": "893e348f-41b1-48ba-f340-066864d71b3c",
        "colab": {
          "base_uri": "https://localhost:8080/",
          "height": 668
        }
      },
      "source": [
        "pila1 = Stack()\n",
        "pila1.push(10)\n",
        "pila1.push(20)\n",
        "pila1.push(1)\n",
        "pila1.push(393)\n",
        "pila1.push(103)\n",
        "pila1.to_String()\n",
        "\n",
        "sacado=pila1.pop()\n",
        "print(sacado)\n",
        "pila1.to_String()\n",
        "\n",
        "pila1.push(444)\n",
        "pila1.push(233)\n",
        "pila1.to_String()\n",
        "\n",
        "print(f\"El elemento en el tope es:{pila1.get_top()}\")\n",
        "pila1.to_String()\n",
        "print(f\"La pila tiene{pila1.get_length()} elementos\")\n",
        "print(f\"¿La pila esta vacia?: {pila1.is_empty()}\")"
      ],
      "execution_count": null,
      "outputs": [
        {
          "output_type": "stream",
          "text": [
            "------------------\n",
            "103\n",
            "393\n",
            "1\n",
            "20\n",
            "10\n",
            "------------------\n",
            "\n",
            "103\n",
            "------------------\n",
            "393\n",
            "1\n",
            "20\n",
            "10\n",
            "------------------\n",
            "\n",
            "------------------\n",
            "233\n",
            "444\n",
            "393\n",
            "1\n",
            "20\n",
            "10\n",
            "------------------\n",
            "\n",
            "El elemento en el tope es:233\n",
            "------------------\n",
            "233\n",
            "444\n",
            "393\n",
            "1\n",
            "20\n",
            "10\n",
            "------------------\n",
            "\n",
            "La pila tiene6 elementos\n",
            "¿La pila esta vacia?: False\n"
          ],
          "name": "stdout"
        }
      ]
    },
    {
      "cell_type": "markdown",
      "metadata": {
        "id": "qrXstyQUIthZ"
      },
      "source": [
        "# ejemplo de aplicacion de pilas\n",
        "\n",
        "x=4 + 5 + 6\n",
        "\n",
        "x=4 + (5 + 6) + 3\n",
        "\n",
        "x=4 + 5 + 6) + 3\n",
        "\n",
        "if(a==b){ System.out.println(b)\n",
        "\n",
        "if(a==b){ System.out.println(b)\n",
        "\n",
        "# reglas\n",
        "### '(' -> push('@')\n",
        "### ')' -> pop()\n",
        "Si al final de recorrido esta vacia entonces la cadena es correcta.\n",
        "\n",
        "Si en un pop desencadena en querer sacar un elemento de la pila vacia significa que la cadena no esta balanceada"
      ]
    },
    {
      "cell_type": "markdown",
      "metadata": {
        "id": "g_XQZXb3NPsa"
      },
      "source": [
        "# tarea\n",
        "Hacer un programa que valide el balanceo de '()' , '[]' y '{ }'\n",
        "en programas del lenguaje C y Java.\n",
        "\n",
        "Tomando como base el codigo de la clase"
      ]
    },
    {
      "cell_type": "code",
      "metadata": {
        "id": "165tKLosMtL7",
        "outputId": "832e7f45-fa39-44a5-f6a5-cdb6d585c180",
        "colab": {
          "base_uri": "https://localhost:8080/",
          "height": 122
        }
      },
      "source": [
        "def is_balanceado(cadena):\n",
        "  pila=Stack()\n",
        "  balanceado=bool(0)\n",
        "  for i in range(0,len(cadena)):\n",
        "    if cadena[i]=='('or cadena[i]=='[' or cadena[i]=='{':\n",
        "      pila.push(cadena[i])\n",
        "\n",
        "    elif cadena[i]==')':\n",
        "      if pila.get_top()=='(':\n",
        "        pila.pop()\n",
        "      else:\n",
        "        return print(f\"¿La pila esta balanceada?: { balanceado}\")\n",
        "    elif cadena[i]==']':\n",
        "      if pila.get_top()=='[':\n",
        "        pila.pop()\n",
        "      else:\n",
        "        return print(f\"¿La pila esta balanceada?: { balanceado}\")\n",
        "    elif cadena[i]=='}':\n",
        "      if pila.get_top()=='{':\n",
        "        pila.pop()\n",
        "      else:\n",
        "        return print(f\"¿La pila esta balanceada?: { balanceado}\")\n",
        "  return print(f\"¿La pila esta balanceada?: { pila.is_empty()}\")\n",
        "\n",
        "is_balanceado(\"if (turno.equals(\\\"\\\")() && matriz[1][0].equals(\\\"\\\")) {selOp(j4, \\\"\\\", this.usuario);if (espacioEnMatriz > 0) }\")\n",
        "is_balanceado(\"x=4 + 5 + 6\")\n",
        "is_balanceado(\"x=4 + (5 + 6) + 3\")\n",
        "is_balanceado(\"x=4 + 5 + 6) + 3\")\n",
        "is_balanceado(\"if(a==b){ System.out.println(b)\")\n",
        "is_balanceado(\"if(a==b){ System.out.println(b}\")"
      ],
      "execution_count": 10,
      "outputs": [
        {
          "output_type": "stream",
          "text": [
            "¿La pila esta balanceada?: True\n",
            "¿La pila esta balanceada?: True\n",
            "¿La pila esta balanceada?: True\n",
            "¿La pila esta balanceada?: False\n",
            "¿La pila esta balanceada?: False\n",
            "¿La pila esta balanceada?: False\n"
          ],
          "name": "stdout"
        }
      ]
    }
  ]
}