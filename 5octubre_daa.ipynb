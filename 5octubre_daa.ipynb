{
  "nbformat": 4,
  "nbformat_minor": 0,
  "metadata": {
    "colab": {
      "name": "5octubre_daa.ipynb",
      "provenance": [],
      "authorship_tag": "ABX9TyPSRWuUhKgG9SzswIkywBo8",
      "include_colab_link": true
    },
    "kernelspec": {
      "name": "python3",
      "display_name": "Python 3"
    }
  },
  "cells": [
    {
      "cell_type": "markdown",
      "metadata": {
        "id": "view-in-github",
        "colab_type": "text"
      },
      "source": [
        "<a href=\"https://colab.research.google.com/github/renkogiso/daa_2021_1/blob/master/5octubre_daa.ipynb\" target=\"_parent\"><img src=\"https://colab.research.google.com/assets/colab-badge.svg\" alt=\"Open In Colab\"/></a>"
      ]
    },
    {
      "cell_type": "markdown",
      "metadata": {
        "id": "4w8LZEeZ_GHA"
      },
      "source": [
        "# Estructura de datos Pila(Stack)\n",
        "- Last in First Out (LIFO)\n",
        "- De tipo lineal\n",
        "- Se puden obtener e ingresar datos desde \n",
        "- push para agregar\n",
        "- pop para sacar\n",
        "\n",
        "## operaciones de las pilas\n",
        "\n",
        "1. is_empty (regresa true o false)\n",
        "1. get_top(regresa el elemento en el tope SIN SACARLO)\n",
        "1. pop (Saca el elemnto del tope y lo regresa)\n",
        "1. push (mete un elemento en el tope)\n",
        "1. get_length (regresa el numero de elementos de la pila)"
      ]
    },
    {
      "cell_type": "code",
      "metadata": {
        "id": "PEQAKiP9-5EJ"
      },
      "source": [
        "class Stack:\n",
        "  def __init__( self ):\n",
        "    self._datos=[]\n",
        "  \n",
        "  def is_empty( self ):\n",
        "    return len(self._datos) == 0\n",
        "  \n",
        "  def get_top( self ):\n",
        "    return self._datos[-1]\n",
        "\n",
        "  def pop( self ):\n",
        "    return self._datos.pop()\n",
        "\n",
        "  def push( self , valor):\n",
        "    self._datos.append(valor)\n",
        "  \n",
        "  def get_length( self ):\n",
        "    return len(self._datos)\n",
        "\n",
        "  def to_String( self ):\n",
        "    print(\"------------------\")\n",
        "    for ele in self._datos[-1::-1]:\n",
        "      print(f\"{ele}\")\n",
        "    print(\"------------------\\n\")\n"
      ],
      "execution_count": 32,
      "outputs": []
    },
    {
      "cell_type": "code",
      "metadata": {
        "id": "68arrUyWFPog",
        "outputId": "4b552c95-162e-482a-8e9a-e386622aaf17",
        "colab": {
          "base_uri": "https://localhost:8080/",
          "height": 668
        }
      },
      "source": [
        "pila1 = Stack()\n",
        "pila1.push(10)\n",
        "pila1.push(20)\n",
        "pila1.push(1)\n",
        "pila1.push(393)\n",
        "pila1.push(103)\n",
        "pila1.to_String()\n",
        "\n",
        "sacado=pila1.pop()\n",
        "print(sacado)\n",
        "pila1.to_String()\n",
        "\n",
        "pila1.push(444)\n",
        "pila1.push(233)\n",
        "pila1.to_String()\n",
        "\n",
        "print(f\"El elemento en el tope es:{pila1.get_top()}\")\n",
        "pila1.to_String()\n",
        "print(f\"La pila tiene{pila1.get_length()} elementos\")\n",
        "print(f\"¿La pila esta vacia?: {pila1.is_empty()}\")"
      ],
      "execution_count": 41,
      "outputs": [
        {
          "output_type": "stream",
          "text": [
            "------------------\n",
            "103\n",
            "393\n",
            "1\n",
            "20\n",
            "10\n",
            "------------------\n",
            "\n",
            "103\n",
            "------------------\n",
            "393\n",
            "1\n",
            "20\n",
            "10\n",
            "------------------\n",
            "\n",
            "------------------\n",
            "233\n",
            "444\n",
            "393\n",
            "1\n",
            "20\n",
            "10\n",
            "------------------\n",
            "\n",
            "El elemento en el tope es:233\n",
            "------------------\n",
            "233\n",
            "444\n",
            "393\n",
            "1\n",
            "20\n",
            "10\n",
            "------------------\n",
            "\n",
            "La pila tiene6 elementos\n",
            "¿La pila esta vacia?: False 6\n"
          ],
          "name": "stdout"
        }
      ]
    },
    {
      "cell_type": "markdown",
      "metadata": {
        "id": "qrXstyQUIthZ"
      },
      "source": [
        "# ejemplo de aplicacion de pilas\n",
        "\n",
        "x=4 + 5 + 6\n",
        "\n",
        "x=4 + (5 + 6) + 3\n",
        "\n",
        "x=4 + 5 + 6) + 3\n",
        "\n",
        "if(a==b){ System.out.println(b)\n",
        "\n",
        "if(a==b){ System.out.println(b)\n",
        "\n",
        "# reglas\n",
        "### '(' -> push('@')\n",
        "### ')' -> pop()\n",
        "Si al final de recorrido esta vacia entonces la cadena es correcta.\n",
        "\n",
        "Si en un pop desencadena en querer sacar un elemento de la pila vacia significa que la cadena no esta balanceada"
      ]
    },
    {
      "cell_type": "markdown",
      "metadata": {
        "id": "g_XQZXb3NPsa"
      },
      "source": [
        "# tarea\n",
        "Hacer un programa que valide el balanceo de '()' , '[]' y '{ }'\n",
        "en programas del lenguaje C y Java.\n",
        "\n",
        "Tomando como base el codigo de la clase"
      ]
    },
    {
      "cell_type": "code",
      "metadata": {
        "id": "165tKLosMtL7",
        "outputId": "37899937-695a-450f-c6d0-86f383271882",
        "colab": {
          "base_uri": "https://localhost:8080/",
          "height": 87
        }
      },
      "source": [
        "pila=Stack()\n",
        "pila.push(34)\n",
        "pila.to_String()"
      ],
      "execution_count": 45,
      "outputs": [
        {
          "output_type": "stream",
          "text": [
            "------------------\n",
            "34\n",
            "------------------\n",
            "\n"
          ],
          "name": "stdout"
        }
      ]
    }
  ]
}